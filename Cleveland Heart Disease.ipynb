{
 "cells": [
  {
   "cell_type": "markdown",
   "metadata": {},
   "source": [
    "## Dataset  \n",
    "\n",
    "There are 14 columns in the dataset, where the patient_id column is a unique and random identifier. The remaining 13 features are described in the section below.  \n",
    "\n",
    "slope_of_peak_exercise_st_segment (type: int): the slope of the peak exercise ST segment, an electrocardiography read out indicating quality of blood flow to the heart   \n",
    "\n",
    "thal (type: categorical): results of thallium stress test measuring blood flow to the heart, with possible values normal, fixed_defect, reversible_defect   \n",
    "\n",
    "resting_blood_pressure (type: int): resting blood pressure  \n",
    "\n",
    "chest_pain_type (type: int): chest pain type (4 values)  \n",
    "\n",
    "num_major_vessels (type: int): number of major vessels (0-3) colored by flourosopy  \n",
    "\n",
    "fasting_blood_sugar_gt_120_mg_per_dl (type: binary): fasting blood sugar > 120 mg/dl  \n",
    "\n",
    "resting_ekg_results (type: int): resting electrocardiographic results (values 0,1,2)  \n",
    "\n",
    "serum_cholesterol_mg_per_dl (type: int): serum cholestoral in mg/dl  \n",
    "\n",
    "oldpeak_eq_st_depression (type: float): oldpeak = ST depression induced by exercise relative to rest, a measure of abnormality in electrocardiograms  \n",
    "\n",
    "sex (type: binary): 0: female, 1: male  \n",
    "\n",
    "age (type: int): age in years  \n",
    "\n",
    "max_heart_rate_achieved (type: int): maximum heart rate achieved (beats per minute)  \n",
    "\n",
    "exercise_induced_angina (type: binary): exercise-induced chest pain (0: False, 1: True)  "
   ]
  },
  {
   "cell_type": "code",
   "execution_count": 2,
   "metadata": {},
   "outputs": [],
   "source": [
    "# import \n",
    "# algebra tools\n",
    "import math\n",
    "import numpy as np \n",
    "\n",
    "# processing tools\n",
    "import pandas as pd \n",
    "import re\n",
    "from sklearn.preprocessing import scale\n",
    "from sklearn.preprocessing import OneHotEncoder\n",
    "from sklearn.preprocessing import StandardScaler\n",
    "from sklearn.model_selection import train_test_split\n",
    "\n",
    "# visualization tools\n",
    "import seaborn as sns\n",
    "%matplotlib inline\n",
    "from matplotlib import pyplot as plt\n",
    "from matplotlib import style\n",
    "\n",
    "# algorithms\n",
    "from sklearn.model_selection import cross_val_score\n",
    "from sklearn.model_selection import GridSearchCV\n",
    "from sklearn.model_selection import RandomizedSearchCV\n",
    "\n",
    "from sklearn import linear_model\n",
    "from sklearn.linear_model import LogisticRegression\n",
    "from sklearn.linear_model import LinearRegression\n",
    "from sklearn.linear_model import BayesianRidge\n",
    "from sklearn.linear_model import Perceptron\n",
    "from sklearn.linear_model import SGDClassifier\n",
    "from sklearn.linear_model import SGDRegressor\n",
    "\n",
    "from sklearn.tree import DecisionTreeClassifier\n",
    "from sklearn.tree import DecisionTreeRegressor\n",
    "from sklearn.ensemble import RandomForestClassifier\n",
    "from sklearn.ensemble import RandomForestRegressor\n",
    "from sklearn.neighbors import KNeighborsClassifier\n",
    "from sklearn.neighbors import KNeighborsRegressor\n",
    "from sklearn.svm import SVR,SVC, LinearSVC\n",
    "from sklearn.naive_bayes import GaussianNB\n",
    "from sklearn.naive_bayes import MultinomialNB\n",
    "from sklearn.ensemble import VotingClassifier"
   ]
  },
  {
   "cell_type": "code",
   "execution_count": 4,
   "metadata": {},
   "outputs": [],
   "source": [
    "# upload train and test files\n",
    "test_values = pd.read_csv(\"test_values.csv\")\n",
    "train_values = pd.read_csv(\"train_values.csv\")\n",
    "train_labels = pd.read_csv(\"train_labels.csv\")"
   ]
  },
  {
   "cell_type": "code",
   "execution_count": 5,
   "metadata": {
    "scrolled": true
   },
   "outputs": [
    {
     "data": {
      "text/html": [
       "<div>\n",
       "<style scoped>\n",
       "    .dataframe tbody tr th:only-of-type {\n",
       "        vertical-align: middle;\n",
       "    }\n",
       "\n",
       "    .dataframe tbody tr th {\n",
       "        vertical-align: top;\n",
       "    }\n",
       "\n",
       "    .dataframe thead th {\n",
       "        text-align: right;\n",
       "    }\n",
       "</style>\n",
       "<table border=\"1\" class=\"dataframe\">\n",
       "  <thead>\n",
       "    <tr style=\"text-align: right;\">\n",
       "      <th></th>\n",
       "      <th>patient_id</th>\n",
       "      <th>slope_of_peak_exercise_st_segment</th>\n",
       "      <th>thal</th>\n",
       "      <th>resting_blood_pressure</th>\n",
       "      <th>chest_pain_type</th>\n",
       "      <th>num_major_vessels</th>\n",
       "      <th>fasting_blood_sugar_gt_120_mg_per_dl</th>\n",
       "      <th>resting_ekg_results</th>\n",
       "      <th>serum_cholesterol_mg_per_dl</th>\n",
       "      <th>oldpeak_eq_st_depression</th>\n",
       "      <th>sex</th>\n",
       "      <th>age</th>\n",
       "      <th>max_heart_rate_achieved</th>\n",
       "      <th>exercise_induced_angina</th>\n",
       "    </tr>\n",
       "  </thead>\n",
       "  <tbody>\n",
       "    <tr>\n",
       "      <th>0</th>\n",
       "      <td>0z64un</td>\n",
       "      <td>1</td>\n",
       "      <td>normal</td>\n",
       "      <td>128</td>\n",
       "      <td>2</td>\n",
       "      <td>0</td>\n",
       "      <td>0</td>\n",
       "      <td>2</td>\n",
       "      <td>308</td>\n",
       "      <td>0.0</td>\n",
       "      <td>1</td>\n",
       "      <td>45</td>\n",
       "      <td>170</td>\n",
       "      <td>0</td>\n",
       "    </tr>\n",
       "    <tr>\n",
       "      <th>1</th>\n",
       "      <td>ryoo3j</td>\n",
       "      <td>2</td>\n",
       "      <td>normal</td>\n",
       "      <td>110</td>\n",
       "      <td>3</td>\n",
       "      <td>0</td>\n",
       "      <td>0</td>\n",
       "      <td>0</td>\n",
       "      <td>214</td>\n",
       "      <td>1.6</td>\n",
       "      <td>0</td>\n",
       "      <td>54</td>\n",
       "      <td>158</td>\n",
       "      <td>0</td>\n",
       "    </tr>\n",
       "    <tr>\n",
       "      <th>2</th>\n",
       "      <td>yt1s1x</td>\n",
       "      <td>1</td>\n",
       "      <td>normal</td>\n",
       "      <td>125</td>\n",
       "      <td>4</td>\n",
       "      <td>3</td>\n",
       "      <td>0</td>\n",
       "      <td>2</td>\n",
       "      <td>304</td>\n",
       "      <td>0.0</td>\n",
       "      <td>1</td>\n",
       "      <td>77</td>\n",
       "      <td>162</td>\n",
       "      <td>1</td>\n",
       "    </tr>\n",
       "    <tr>\n",
       "      <th>3</th>\n",
       "      <td>l2xjde</td>\n",
       "      <td>1</td>\n",
       "      <td>reversible_defect</td>\n",
       "      <td>152</td>\n",
       "      <td>4</td>\n",
       "      <td>0</td>\n",
       "      <td>0</td>\n",
       "      <td>0</td>\n",
       "      <td>223</td>\n",
       "      <td>0.0</td>\n",
       "      <td>1</td>\n",
       "      <td>40</td>\n",
       "      <td>181</td>\n",
       "      <td>0</td>\n",
       "    </tr>\n",
       "    <tr>\n",
       "      <th>4</th>\n",
       "      <td>oyt4ek</td>\n",
       "      <td>3</td>\n",
       "      <td>reversible_defect</td>\n",
       "      <td>178</td>\n",
       "      <td>1</td>\n",
       "      <td>0</td>\n",
       "      <td>0</td>\n",
       "      <td>2</td>\n",
       "      <td>270</td>\n",
       "      <td>4.2</td>\n",
       "      <td>1</td>\n",
       "      <td>59</td>\n",
       "      <td>145</td>\n",
       "      <td>0</td>\n",
       "    </tr>\n",
       "  </tbody>\n",
       "</table>\n",
       "</div>"
      ],
      "text/plain": [
       "  patient_id  slope_of_peak_exercise_st_segment               thal  \\\n",
       "0     0z64un                                  1             normal   \n",
       "1     ryoo3j                                  2             normal   \n",
       "2     yt1s1x                                  1             normal   \n",
       "3     l2xjde                                  1  reversible_defect   \n",
       "4     oyt4ek                                  3  reversible_defect   \n",
       "\n",
       "   resting_blood_pressure  chest_pain_type  num_major_vessels  \\\n",
       "0                     128                2                  0   \n",
       "1                     110                3                  0   \n",
       "2                     125                4                  3   \n",
       "3                     152                4                  0   \n",
       "4                     178                1                  0   \n",
       "\n",
       "   fasting_blood_sugar_gt_120_mg_per_dl  resting_ekg_results  \\\n",
       "0                                     0                    2   \n",
       "1                                     0                    0   \n",
       "2                                     0                    2   \n",
       "3                                     0                    0   \n",
       "4                                     0                    2   \n",
       "\n",
       "   serum_cholesterol_mg_per_dl  oldpeak_eq_st_depression  sex  age  \\\n",
       "0                          308                       0.0    1   45   \n",
       "1                          214                       1.6    0   54   \n",
       "2                          304                       0.0    1   77   \n",
       "3                          223                       0.0    1   40   \n",
       "4                          270                       4.2    1   59   \n",
       "\n",
       "   max_heart_rate_achieved  exercise_induced_angina  \n",
       "0                      170                        0  \n",
       "1                      158                        0  \n",
       "2                      162                        1  \n",
       "3                      181                        0  \n",
       "4                      145                        0  "
      ]
     },
     "execution_count": 5,
     "metadata": {},
     "output_type": "execute_result"
    }
   ],
   "source": [
    "train_values.head()"
   ]
  },
  {
   "cell_type": "code",
   "execution_count": 6,
   "metadata": {
    "scrolled": false
   },
   "outputs": [
    {
     "data": {
      "text/html": [
       "<div>\n",
       "<style scoped>\n",
       "    .dataframe tbody tr th:only-of-type {\n",
       "        vertical-align: middle;\n",
       "    }\n",
       "\n",
       "    .dataframe tbody tr th {\n",
       "        vertical-align: top;\n",
       "    }\n",
       "\n",
       "    .dataframe thead th {\n",
       "        text-align: right;\n",
       "    }\n",
       "</style>\n",
       "<table border=\"1\" class=\"dataframe\">\n",
       "  <thead>\n",
       "    <tr style=\"text-align: right;\">\n",
       "      <th></th>\n",
       "      <th>patient_id</th>\n",
       "      <th>heart_disease_present</th>\n",
       "    </tr>\n",
       "  </thead>\n",
       "  <tbody>\n",
       "    <tr>\n",
       "      <th>0</th>\n",
       "      <td>0z64un</td>\n",
       "      <td>0</td>\n",
       "    </tr>\n",
       "    <tr>\n",
       "      <th>1</th>\n",
       "      <td>ryoo3j</td>\n",
       "      <td>0</td>\n",
       "    </tr>\n",
       "    <tr>\n",
       "      <th>2</th>\n",
       "      <td>yt1s1x</td>\n",
       "      <td>1</td>\n",
       "    </tr>\n",
       "    <tr>\n",
       "      <th>3</th>\n",
       "      <td>l2xjde</td>\n",
       "      <td>1</td>\n",
       "    </tr>\n",
       "    <tr>\n",
       "      <th>4</th>\n",
       "      <td>oyt4ek</td>\n",
       "      <td>0</td>\n",
       "    </tr>\n",
       "  </tbody>\n",
       "</table>\n",
       "</div>"
      ],
      "text/plain": [
       "  patient_id  heart_disease_present\n",
       "0     0z64un                      0\n",
       "1     ryoo3j                      0\n",
       "2     yt1s1x                      1\n",
       "3     l2xjde                      1\n",
       "4     oyt4ek                      0"
      ]
     },
     "execution_count": 6,
     "metadata": {},
     "output_type": "execute_result"
    }
   ],
   "source": [
    "train_labels.head()"
   ]
  },
  {
   "cell_type": "code",
   "execution_count": 7,
   "metadata": {},
   "outputs": [
    {
     "name": "stdout",
     "output_type": "stream",
     "text": [
      "<class 'pandas.core.frame.DataFrame'>\n",
      "RangeIndex: 180 entries, 0 to 179\n",
      "Data columns (total 14 columns):\n",
      "patient_id                              180 non-null object\n",
      "slope_of_peak_exercise_st_segment       180 non-null int64\n",
      "thal                                    180 non-null object\n",
      "resting_blood_pressure                  180 non-null int64\n",
      "chest_pain_type                         180 non-null int64\n",
      "num_major_vessels                       180 non-null int64\n",
      "fasting_blood_sugar_gt_120_mg_per_dl    180 non-null int64\n",
      "resting_ekg_results                     180 non-null int64\n",
      "serum_cholesterol_mg_per_dl             180 non-null int64\n",
      "oldpeak_eq_st_depression                180 non-null float64\n",
      "sex                                     180 non-null int64\n",
      "age                                     180 non-null int64\n",
      "max_heart_rate_achieved                 180 non-null int64\n",
      "exercise_induced_angina                 180 non-null int64\n",
      "dtypes: float64(1), int64(11), object(2)\n",
      "memory usage: 19.8+ KB\n"
     ]
    }
   ],
   "source": [
    "train_values.info()"
   ]
  },
  {
   "cell_type": "code",
   "execution_count": 8,
   "metadata": {},
   "outputs": [
    {
     "name": "stdout",
     "output_type": "stream",
     "text": [
      "<class 'pandas.core.frame.DataFrame'>\n",
      "RangeIndex: 90 entries, 0 to 89\n",
      "Data columns (total 14 columns):\n",
      "patient_id                              90 non-null object\n",
      "slope_of_peak_exercise_st_segment       90 non-null int64\n",
      "thal                                    90 non-null object\n",
      "resting_blood_pressure                  90 non-null int64\n",
      "chest_pain_type                         90 non-null int64\n",
      "num_major_vessels                       90 non-null int64\n",
      "fasting_blood_sugar_gt_120_mg_per_dl    90 non-null int64\n",
      "resting_ekg_results                     90 non-null int64\n",
      "serum_cholesterol_mg_per_dl             90 non-null int64\n",
      "oldpeak_eq_st_depression                90 non-null float64\n",
      "sex                                     90 non-null int64\n",
      "age                                     90 non-null int64\n",
      "max_heart_rate_achieved                 90 non-null int64\n",
      "exercise_induced_angina                 90 non-null int64\n",
      "dtypes: float64(1), int64(11), object(2)\n",
      "memory usage: 9.9+ KB\n"
     ]
    }
   ],
   "source": [
    "test_values.info()"
   ]
  },
  {
   "cell_type": "markdown",
   "metadata": {},
   "source": [
    "## Nice, there are no missing data."
   ]
  },
  {
   "cell_type": "code",
   "execution_count": 9,
   "metadata": {},
   "outputs": [],
   "source": [
    "#lets create some features that might be interesting\n",
    "dataset = [test_values, train_values]\n",
    "for variable in dataset:\n",
    "    \n",
    "    variable['heart_rate/blood_pressure']= (variable['max_heart_rate_achieved']/variable['resting_blood_pressure']).round(2)\n",
    "    variable['cholesterol/blood_pressure']= (variable['serum_cholesterol_mg_per_dl']/variable['resting_blood_pressure']).round(2)\n",
    "    variable['blood_pressure/age']= (variable['resting_blood_pressure']/variable['age']).round(2)\n",
    "    variable['cholesterol/age']= (variable['serum_cholesterol_mg_per_dl']/variable['age']).round(2)\n",
    "    variable['heart_rate/age']= (variable['max_heart_rate_achieved']/variable['age']).round(2)\n",
    "   \n",
    "    variable['log10(heart_rate)']= np.log10(variable['max_heart_rate_achieved']).round(2)\n",
    "    variable['log10(cholesterol)']= np.log10(variable['serum_cholesterol_mg_per_dl']).round(2)\n",
    "    variable['log10(blood_pressure)']= np.log10(variable['resting_blood_pressure']).round(2)\n",
    "    variable['log10(age)']= np.log10(variable['age']).round(2)\n",
    "    \n",
    "    #variable['heart_rate*blood_pressure']= (variable['max_heart_rate_achieved']*variable['resting_blood_pressure']).round(2)\n",
    "    #variable['cholesterol*blood_pressure']= (variable['serum_cholesterol_mg_per_dl']*variable['resting_blood_pressure']).round(2)\n",
    "    #variable['blood_pressure*age']= (variable['resting_blood_pressure']*variable['age']).round(2)\n",
    "    #variable['cholesterol*age']= (variable['serum_cholesterol_mg_per_dl']*variable['age']).round(2)\n",
    "    #variable['heart_rate*age']= (variable['max_heart_rate_achieved']*variable['age']).round(2)\n",
    "    \n",
    "    #variable['heart_rate*heart_rate']= (variable['max_heart_rate_achieved']*variable['max_heart_rate_achieved']).round(2)\n",
    "    #variable['cholesterol*cholesterol']= (variable['serum_cholesterol_mg_per_dl']*variable['serum_cholesterol_mg_per_dl']).round(2)\n",
    "    #variable['blood_pressure*blood_pressure']= (variable['resting_blood_pressure']*variable['resting_blood_pressure']).round(2)\n",
    "    #variable['age*age']= (variable['age']*variable['age']).round(2)"
   ]
  },
  {
   "cell_type": "code",
   "execution_count": 10,
   "metadata": {},
   "outputs": [
    {
     "data": {
      "text/plain": [
       "normal               98\n",
       "reversible_defect    74\n",
       "fixed_defect          8\n",
       "Name: thal, dtype: int64"
      ]
     },
     "execution_count": 10,
     "metadata": {},
     "output_type": "execute_result"
    }
   ],
   "source": [
    "train_values['thal'].value_counts()"
   ]
  },
  {
   "cell_type": "code",
   "execution_count": 11,
   "metadata": {},
   "outputs": [
    {
     "data": {
      "text/plain": [
       "4    82\n",
       "3    57\n",
       "2    28\n",
       "1    13\n",
       "Name: chest_pain_type, dtype: int64"
      ]
     },
     "execution_count": 11,
     "metadata": {},
     "output_type": "execute_result"
    }
   ],
   "source": [
    "train_values['chest_pain_type'].value_counts()"
   ]
  },
  {
   "cell_type": "code",
   "execution_count": 10,
   "metadata": {},
   "outputs": [
    {
     "data": {
      "text/plain": [
       "2    94\n",
       "0    85\n",
       "1     1\n",
       "Name: resting_ekg_results, dtype: int64"
      ]
     },
     "execution_count": 10,
     "metadata": {},
     "output_type": "execute_result"
    }
   ],
   "source": [
    "train_values['resting_ekg_results'].value_counts()"
   ]
  },
  {
   "cell_type": "code",
   "execution_count": 12,
   "metadata": {},
   "outputs": [],
   "source": [
    "train_values= pd.get_dummies(train_values, columns= ['thal','chest_pain_type','resting_ekg_results'], drop_first=False)\n",
    "test_values= pd.get_dummies(test_values, columns= ['thal','chest_pain_type','resting_ekg_results'], drop_first=False)"
   ]
  },
  {
   "cell_type": "code",
   "execution_count": 13,
   "metadata": {},
   "outputs": [
    {
     "data": {
      "text/html": [
       "<div>\n",
       "<style scoped>\n",
       "    .dataframe tbody tr th:only-of-type {\n",
       "        vertical-align: middle;\n",
       "    }\n",
       "\n",
       "    .dataframe tbody tr th {\n",
       "        vertical-align: top;\n",
       "    }\n",
       "\n",
       "    .dataframe thead th {\n",
       "        text-align: right;\n",
       "    }\n",
       "</style>\n",
       "<table border=\"1\" class=\"dataframe\">\n",
       "  <thead>\n",
       "    <tr style=\"text-align: right;\">\n",
       "      <th></th>\n",
       "      <th>patient_id</th>\n",
       "      <th>slope_of_peak_exercise_st_segment</th>\n",
       "      <th>resting_blood_pressure</th>\n",
       "      <th>num_major_vessels</th>\n",
       "      <th>fasting_blood_sugar_gt_120_mg_per_dl</th>\n",
       "      <th>serum_cholesterol_mg_per_dl</th>\n",
       "      <th>oldpeak_eq_st_depression</th>\n",
       "      <th>sex</th>\n",
       "      <th>age</th>\n",
       "      <th>max_heart_rate_achieved</th>\n",
       "      <th>...</th>\n",
       "      <th>thal_fixed_defect</th>\n",
       "      <th>thal_normal</th>\n",
       "      <th>thal_reversible_defect</th>\n",
       "      <th>chest_pain_type_1</th>\n",
       "      <th>chest_pain_type_2</th>\n",
       "      <th>chest_pain_type_3</th>\n",
       "      <th>chest_pain_type_4</th>\n",
       "      <th>resting_ekg_results_0</th>\n",
       "      <th>resting_ekg_results_1</th>\n",
       "      <th>resting_ekg_results_2</th>\n",
       "    </tr>\n",
       "  </thead>\n",
       "  <tbody>\n",
       "    <tr>\n",
       "      <th>0</th>\n",
       "      <td>0z64un</td>\n",
       "      <td>1</td>\n",
       "      <td>128</td>\n",
       "      <td>0</td>\n",
       "      <td>0</td>\n",
       "      <td>308</td>\n",
       "      <td>0.0</td>\n",
       "      <td>1</td>\n",
       "      <td>45</td>\n",
       "      <td>170</td>\n",
       "      <td>...</td>\n",
       "      <td>0</td>\n",
       "      <td>1</td>\n",
       "      <td>0</td>\n",
       "      <td>0</td>\n",
       "      <td>1</td>\n",
       "      <td>0</td>\n",
       "      <td>0</td>\n",
       "      <td>0</td>\n",
       "      <td>0</td>\n",
       "      <td>1</td>\n",
       "    </tr>\n",
       "    <tr>\n",
       "      <th>1</th>\n",
       "      <td>ryoo3j</td>\n",
       "      <td>2</td>\n",
       "      <td>110</td>\n",
       "      <td>0</td>\n",
       "      <td>0</td>\n",
       "      <td>214</td>\n",
       "      <td>1.6</td>\n",
       "      <td>0</td>\n",
       "      <td>54</td>\n",
       "      <td>158</td>\n",
       "      <td>...</td>\n",
       "      <td>0</td>\n",
       "      <td>1</td>\n",
       "      <td>0</td>\n",
       "      <td>0</td>\n",
       "      <td>0</td>\n",
       "      <td>1</td>\n",
       "      <td>0</td>\n",
       "      <td>1</td>\n",
       "      <td>0</td>\n",
       "      <td>0</td>\n",
       "    </tr>\n",
       "    <tr>\n",
       "      <th>2</th>\n",
       "      <td>yt1s1x</td>\n",
       "      <td>1</td>\n",
       "      <td>125</td>\n",
       "      <td>3</td>\n",
       "      <td>0</td>\n",
       "      <td>304</td>\n",
       "      <td>0.0</td>\n",
       "      <td>1</td>\n",
       "      <td>77</td>\n",
       "      <td>162</td>\n",
       "      <td>...</td>\n",
       "      <td>0</td>\n",
       "      <td>1</td>\n",
       "      <td>0</td>\n",
       "      <td>0</td>\n",
       "      <td>0</td>\n",
       "      <td>0</td>\n",
       "      <td>1</td>\n",
       "      <td>0</td>\n",
       "      <td>0</td>\n",
       "      <td>1</td>\n",
       "    </tr>\n",
       "    <tr>\n",
       "      <th>3</th>\n",
       "      <td>l2xjde</td>\n",
       "      <td>1</td>\n",
       "      <td>152</td>\n",
       "      <td>0</td>\n",
       "      <td>0</td>\n",
       "      <td>223</td>\n",
       "      <td>0.0</td>\n",
       "      <td>1</td>\n",
       "      <td>40</td>\n",
       "      <td>181</td>\n",
       "      <td>...</td>\n",
       "      <td>0</td>\n",
       "      <td>0</td>\n",
       "      <td>1</td>\n",
       "      <td>0</td>\n",
       "      <td>0</td>\n",
       "      <td>0</td>\n",
       "      <td>1</td>\n",
       "      <td>1</td>\n",
       "      <td>0</td>\n",
       "      <td>0</td>\n",
       "    </tr>\n",
       "    <tr>\n",
       "      <th>4</th>\n",
       "      <td>oyt4ek</td>\n",
       "      <td>3</td>\n",
       "      <td>178</td>\n",
       "      <td>0</td>\n",
       "      <td>0</td>\n",
       "      <td>270</td>\n",
       "      <td>4.2</td>\n",
       "      <td>1</td>\n",
       "      <td>59</td>\n",
       "      <td>145</td>\n",
       "      <td>...</td>\n",
       "      <td>0</td>\n",
       "      <td>0</td>\n",
       "      <td>1</td>\n",
       "      <td>1</td>\n",
       "      <td>0</td>\n",
       "      <td>0</td>\n",
       "      <td>0</td>\n",
       "      <td>0</td>\n",
       "      <td>0</td>\n",
       "      <td>1</td>\n",
       "    </tr>\n",
       "  </tbody>\n",
       "</table>\n",
       "<p>5 rows × 30 columns</p>\n",
       "</div>"
      ],
      "text/plain": [
       "  patient_id  slope_of_peak_exercise_st_segment  resting_blood_pressure  \\\n",
       "0     0z64un                                  1                     128   \n",
       "1     ryoo3j                                  2                     110   \n",
       "2     yt1s1x                                  1                     125   \n",
       "3     l2xjde                                  1                     152   \n",
       "4     oyt4ek                                  3                     178   \n",
       "\n",
       "   num_major_vessels  fasting_blood_sugar_gt_120_mg_per_dl  \\\n",
       "0                  0                                     0   \n",
       "1                  0                                     0   \n",
       "2                  3                                     0   \n",
       "3                  0                                     0   \n",
       "4                  0                                     0   \n",
       "\n",
       "   serum_cholesterol_mg_per_dl  oldpeak_eq_st_depression  sex  age  \\\n",
       "0                          308                       0.0    1   45   \n",
       "1                          214                       1.6    0   54   \n",
       "2                          304                       0.0    1   77   \n",
       "3                          223                       0.0    1   40   \n",
       "4                          270                       4.2    1   59   \n",
       "\n",
       "   max_heart_rate_achieved  ...  thal_fixed_defect  thal_normal  \\\n",
       "0                      170  ...                  0            1   \n",
       "1                      158  ...                  0            1   \n",
       "2                      162  ...                  0            1   \n",
       "3                      181  ...                  0            0   \n",
       "4                      145  ...                  0            0   \n",
       "\n",
       "   thal_reversible_defect  chest_pain_type_1  chest_pain_type_2  \\\n",
       "0                       0                  0                  1   \n",
       "1                       0                  0                  0   \n",
       "2                       0                  0                  0   \n",
       "3                       1                  0                  0   \n",
       "4                       1                  1                  0   \n",
       "\n",
       "   chest_pain_type_3  chest_pain_type_4  resting_ekg_results_0  \\\n",
       "0                  0                  0                      0   \n",
       "1                  1                  0                      1   \n",
       "2                  0                  1                      0   \n",
       "3                  0                  1                      1   \n",
       "4                  0                  0                      0   \n",
       "\n",
       "   resting_ekg_results_1  resting_ekg_results_2  \n",
       "0                      0                      1  \n",
       "1                      0                      0  \n",
       "2                      0                      1  \n",
       "3                      0                      0  \n",
       "4                      0                      1  \n",
       "\n",
       "[5 rows x 30 columns]"
      ]
     },
     "execution_count": 13,
     "metadata": {},
     "output_type": "execute_result"
    }
   ],
   "source": [
    "train_values.head()"
   ]
  },
  {
   "cell_type": "code",
   "execution_count": 14,
   "metadata": {},
   "outputs": [
    {
     "name": "stderr",
     "output_type": "stream",
     "text": [
      "C:\\ProgramData\\Anaconda3\\lib\\site-packages\\ipykernel_launcher.py:9: DataConversionWarning: Data with input dtype uint8, int64, float64 were all converted to float64 by StandardScaler.\n",
      "  if __name__ == '__main__':\n",
      "C:\\ProgramData\\Anaconda3\\lib\\site-packages\\ipykernel_launcher.py:10: DataConversionWarning: Data with input dtype uint8, int64, float64 were all converted to float64 by StandardScaler.\n",
      "  # Remove the CWD from sys.path while we load stuff.\n"
     ]
    }
   ],
   "source": [
    "#standardize features by removing the mean and scaling to unit variance\n",
    "ss = StandardScaler()\n",
    "features= train_values.columns.drop('patient_id').tolist()\n",
    "ss.fit(train_values[features].values)\n",
    "\n",
    "standardized_train_values = train_values.copy()\n",
    "standardized_test_values = test_values.copy()\n",
    "\n",
    "standardized_train_values[features] = ss.transform(train_values[features])\n",
    "standardized_test_values[features] = ss.transform(test_values[features])"
   ]
  },
  {
   "cell_type": "code",
   "execution_count": 15,
   "metadata": {},
   "outputs": [
    {
     "data": {
      "text/html": [
       "<div>\n",
       "<style scoped>\n",
       "    .dataframe tbody tr th:only-of-type {\n",
       "        vertical-align: middle;\n",
       "    }\n",
       "\n",
       "    .dataframe tbody tr th {\n",
       "        vertical-align: top;\n",
       "    }\n",
       "\n",
       "    .dataframe thead th {\n",
       "        text-align: right;\n",
       "    }\n",
       "</style>\n",
       "<table border=\"1\" class=\"dataframe\">\n",
       "  <thead>\n",
       "    <tr style=\"text-align: right;\">\n",
       "      <th></th>\n",
       "      <th>patient_id</th>\n",
       "      <th>slope_of_peak_exercise_st_segment</th>\n",
       "      <th>resting_blood_pressure</th>\n",
       "      <th>num_major_vessels</th>\n",
       "      <th>fasting_blood_sugar_gt_120_mg_per_dl</th>\n",
       "      <th>serum_cholesterol_mg_per_dl</th>\n",
       "      <th>oldpeak_eq_st_depression</th>\n",
       "      <th>sex</th>\n",
       "      <th>age</th>\n",
       "      <th>max_heart_rate_achieved</th>\n",
       "      <th>...</th>\n",
       "      <th>thal_fixed_defect</th>\n",
       "      <th>thal_normal</th>\n",
       "      <th>thal_reversible_defect</th>\n",
       "      <th>chest_pain_type_1</th>\n",
       "      <th>chest_pain_type_2</th>\n",
       "      <th>chest_pain_type_3</th>\n",
       "      <th>chest_pain_type_4</th>\n",
       "      <th>resting_ekg_results_0</th>\n",
       "      <th>resting_ekg_results_1</th>\n",
       "      <th>resting_ekg_results_2</th>\n",
       "    </tr>\n",
       "  </thead>\n",
       "  <tbody>\n",
       "    <tr>\n",
       "      <th>0</th>\n",
       "      <td>0z64un</td>\n",
       "      <td>-0.891241</td>\n",
       "      <td>-0.195195</td>\n",
       "      <td>-0.718403</td>\n",
       "      <td>-0.438238</td>\n",
       "      <td>1.118269</td>\n",
       "      <td>-0.903207</td>\n",
       "      <td>0.672022</td>\n",
       "      <td>-1.053964</td>\n",
       "      <td>0.932485</td>\n",
       "      <td>...</td>\n",
       "      <td>-0.215666</td>\n",
       "      <td>0.914732</td>\n",
       "      <td>-0.835532</td>\n",
       "      <td>-0.279006</td>\n",
       "      <td>2.329929</td>\n",
       "      <td>-0.680746</td>\n",
       "      <td>-0.914732</td>\n",
       "      <td>-0.945905</td>\n",
       "      <td>-0.074744</td>\n",
       "      <td>0.956501</td>\n",
       "    </tr>\n",
       "    <tr>\n",
       "      <th>1</th>\n",
       "      <td>ryoo3j</td>\n",
       "      <td>0.729197</td>\n",
       "      <td>-1.256320</td>\n",
       "      <td>-0.718403</td>\n",
       "      <td>-0.438238</td>\n",
       "      <td>-0.669778</td>\n",
       "      <td>0.527616</td>\n",
       "      <td>-1.488048</td>\n",
       "      <td>-0.087134</td>\n",
       "      <td>0.387084</td>\n",
       "      <td>...</td>\n",
       "      <td>-0.215666</td>\n",
       "      <td>0.914732</td>\n",
       "      <td>-0.835532</td>\n",
       "      <td>-0.279006</td>\n",
       "      <td>-0.429198</td>\n",
       "      <td>1.468977</td>\n",
       "      <td>-0.914732</td>\n",
       "      <td>1.057188</td>\n",
       "      <td>-0.074744</td>\n",
       "      <td>-1.045478</td>\n",
       "    </tr>\n",
       "    <tr>\n",
       "      <th>2</th>\n",
       "      <td>yt1s1x</td>\n",
       "      <td>-0.891241</td>\n",
       "      <td>-0.372049</td>\n",
       "      <td>2.385097</td>\n",
       "      <td>-0.438238</td>\n",
       "      <td>1.042182</td>\n",
       "      <td>-0.903207</td>\n",
       "      <td>0.672022</td>\n",
       "      <td>2.383654</td>\n",
       "      <td>0.568884</td>\n",
       "      <td>...</td>\n",
       "      <td>-0.215666</td>\n",
       "      <td>0.914732</td>\n",
       "      <td>-0.835532</td>\n",
       "      <td>-0.279006</td>\n",
       "      <td>-0.429198</td>\n",
       "      <td>-0.680746</td>\n",
       "      <td>1.093216</td>\n",
       "      <td>-0.945905</td>\n",
       "      <td>-0.074744</td>\n",
       "      <td>0.956501</td>\n",
       "    </tr>\n",
       "    <tr>\n",
       "      <th>3</th>\n",
       "      <td>l2xjde</td>\n",
       "      <td>-0.891241</td>\n",
       "      <td>1.219639</td>\n",
       "      <td>-0.718403</td>\n",
       "      <td>-0.438238</td>\n",
       "      <td>-0.498582</td>\n",
       "      <td>-0.903207</td>\n",
       "      <td>0.672022</td>\n",
       "      <td>-1.591092</td>\n",
       "      <td>1.432436</td>\n",
       "      <td>...</td>\n",
       "      <td>-0.215666</td>\n",
       "      <td>-1.093216</td>\n",
       "      <td>1.196843</td>\n",
       "      <td>-0.279006</td>\n",
       "      <td>-0.429198</td>\n",
       "      <td>-0.680746</td>\n",
       "      <td>1.093216</td>\n",
       "      <td>1.057188</td>\n",
       "      <td>-0.074744</td>\n",
       "      <td>-1.045478</td>\n",
       "    </tr>\n",
       "    <tr>\n",
       "      <th>4</th>\n",
       "      <td>oyt4ek</td>\n",
       "      <td>2.349636</td>\n",
       "      <td>2.752375</td>\n",
       "      <td>-0.718403</td>\n",
       "      <td>-0.438238</td>\n",
       "      <td>0.395442</td>\n",
       "      <td>2.852703</td>\n",
       "      <td>0.672022</td>\n",
       "      <td>0.449994</td>\n",
       "      <td>-0.203768</td>\n",
       "      <td>...</td>\n",
       "      <td>-0.215666</td>\n",
       "      <td>-1.093216</td>\n",
       "      <td>1.196843</td>\n",
       "      <td>3.584153</td>\n",
       "      <td>-0.429198</td>\n",
       "      <td>-0.680746</td>\n",
       "      <td>-0.914732</td>\n",
       "      <td>-0.945905</td>\n",
       "      <td>-0.074744</td>\n",
       "      <td>0.956501</td>\n",
       "    </tr>\n",
       "  </tbody>\n",
       "</table>\n",
       "<p>5 rows × 30 columns</p>\n",
       "</div>"
      ],
      "text/plain": [
       "  patient_id  slope_of_peak_exercise_st_segment  resting_blood_pressure  \\\n",
       "0     0z64un                          -0.891241               -0.195195   \n",
       "1     ryoo3j                           0.729197               -1.256320   \n",
       "2     yt1s1x                          -0.891241               -0.372049   \n",
       "3     l2xjde                          -0.891241                1.219639   \n",
       "4     oyt4ek                           2.349636                2.752375   \n",
       "\n",
       "   num_major_vessels  fasting_blood_sugar_gt_120_mg_per_dl  \\\n",
       "0          -0.718403                             -0.438238   \n",
       "1          -0.718403                             -0.438238   \n",
       "2           2.385097                             -0.438238   \n",
       "3          -0.718403                             -0.438238   \n",
       "4          -0.718403                             -0.438238   \n",
       "\n",
       "   serum_cholesterol_mg_per_dl  oldpeak_eq_st_depression       sex       age  \\\n",
       "0                     1.118269                 -0.903207  0.672022 -1.053964   \n",
       "1                    -0.669778                  0.527616 -1.488048 -0.087134   \n",
       "2                     1.042182                 -0.903207  0.672022  2.383654   \n",
       "3                    -0.498582                 -0.903207  0.672022 -1.591092   \n",
       "4                     0.395442                  2.852703  0.672022  0.449994   \n",
       "\n",
       "   max_heart_rate_achieved  ...  thal_fixed_defect  thal_normal  \\\n",
       "0                 0.932485  ...          -0.215666     0.914732   \n",
       "1                 0.387084  ...          -0.215666     0.914732   \n",
       "2                 0.568884  ...          -0.215666     0.914732   \n",
       "3                 1.432436  ...          -0.215666    -1.093216   \n",
       "4                -0.203768  ...          -0.215666    -1.093216   \n",
       "\n",
       "   thal_reversible_defect  chest_pain_type_1  chest_pain_type_2  \\\n",
       "0               -0.835532          -0.279006           2.329929   \n",
       "1               -0.835532          -0.279006          -0.429198   \n",
       "2               -0.835532          -0.279006          -0.429198   \n",
       "3                1.196843          -0.279006          -0.429198   \n",
       "4                1.196843           3.584153          -0.429198   \n",
       "\n",
       "   chest_pain_type_3  chest_pain_type_4  resting_ekg_results_0  \\\n",
       "0          -0.680746          -0.914732              -0.945905   \n",
       "1           1.468977          -0.914732               1.057188   \n",
       "2          -0.680746           1.093216              -0.945905   \n",
       "3          -0.680746           1.093216               1.057188   \n",
       "4          -0.680746          -0.914732              -0.945905   \n",
       "\n",
       "   resting_ekg_results_1  resting_ekg_results_2  \n",
       "0              -0.074744               0.956501  \n",
       "1              -0.074744              -1.045478  \n",
       "2              -0.074744               0.956501  \n",
       "3              -0.074744              -1.045478  \n",
       "4              -0.074744               0.956501  \n",
       "\n",
       "[5 rows x 30 columns]"
      ]
     },
     "execution_count": 15,
     "metadata": {},
     "output_type": "execute_result"
    }
   ],
   "source": [
    "standardized_train_values.head()"
   ]
  },
  {
   "cell_type": "markdown",
   "metadata": {},
   "source": [
    "## -\n",
    "## basic models\n",
    "## -\n"
   ]
  },
  {
   "cell_type": "code",
   "execution_count": 16,
   "metadata": {},
   "outputs": [],
   "source": [
    "#define some shorthands for our models' inputs'\n",
    "x_train = standardized_train_values.drop(\"patient_id\", axis=1)\n",
    "y_train = train_labels['heart_disease_present']\n",
    "x_test  = standardized_test_values.drop(\"patient_id\", axis=1)"
   ]
  },
  {
   "cell_type": "code",
   "execution_count": 17,
   "metadata": {},
   "outputs": [
    {
     "name": "stdout",
     "output_type": "stream",
     "text": [
      "73.33\n",
      "5.15\n"
     ]
    }
   ],
   "source": [
    "sgdc = SGDClassifier(tol= 1e-3, random_state=23)\n",
    "sgdc.fit(x_train,y_train)\n",
    "\n",
    "sgdc_prediction = sgdc.predict(x_test)\n",
    "\n",
    "sgdc_score = cross_val_score(sgdc, x_train, y_train, cv=5)\n",
    "\n",
    "print((sgdc_score.mean()*100).round(2))\n",
    "print((sgdc_score.std()*100).round(2))"
   ]
  },
  {
   "cell_type": "code",
   "execution_count": 18,
   "metadata": {},
   "outputs": [
    {
     "name": "stdout",
     "output_type": "stream",
     "text": [
      "78.33\n",
      "7.74\n"
     ]
    }
   ],
   "source": [
    "knn = KNeighborsClassifier()\n",
    "knn.fit(x_train, y_train)\n",
    "\n",
    "knn_prediction = knn.predict(x_test)\n",
    "\n",
    "knn_score = cross_val_score(knn, x_train, y_train, cv=5)\n",
    "\n",
    "print((knn_score.mean()*100).round(2))\n",
    "print((knn_score.std()*100).round(2))"
   ]
  },
  {
   "cell_type": "code",
   "execution_count": 19,
   "metadata": {},
   "outputs": [
    {
     "name": "stdout",
     "output_type": "stream",
     "text": [
      "71.67\n",
      "6.67\n"
     ]
    }
   ],
   "source": [
    "gnb = GaussianNB()\n",
    "gnb.fit(x_train, y_train)\n",
    "\n",
    "gnb_prediction = gnb.predict(x_test)\n",
    "\n",
    "gnb_score = cross_val_score(gnb, x_train, y_train, cv=5)\n",
    "\n",
    "print((gnb_score.mean()*100).round(2))\n",
    "print((gnb_score.std()*100).round(2))"
   ]
  },
  {
   "cell_type": "code",
   "execution_count": 20,
   "metadata": {},
   "outputs": [
    {
     "ename": "ValueError",
     "evalue": "Input X must be non-negative",
     "output_type": "error",
     "traceback": [
      "\u001b[1;31m---------------------------------------------------------------------------\u001b[0m",
      "\u001b[1;31mValueError\u001b[0m                                Traceback (most recent call last)",
      "\u001b[1;32m<ipython-input-20-897505d1b889>\u001b[0m in \u001b[0;36m<module>\u001b[1;34m\u001b[0m\n\u001b[0;32m      1\u001b[0m \u001b[0mmnb\u001b[0m \u001b[1;33m=\u001b[0m \u001b[0mMultinomialNB\u001b[0m\u001b[1;33m(\u001b[0m\u001b[1;33m)\u001b[0m\u001b[1;33m\u001b[0m\u001b[1;33m\u001b[0m\u001b[0m\n\u001b[1;32m----> 2\u001b[1;33m \u001b[0mmnb\u001b[0m\u001b[1;33m.\u001b[0m\u001b[0mfit\u001b[0m\u001b[1;33m(\u001b[0m\u001b[0mx_train\u001b[0m\u001b[1;33m,\u001b[0m \u001b[0my_train\u001b[0m\u001b[1;33m)\u001b[0m\u001b[1;33m\u001b[0m\u001b[1;33m\u001b[0m\u001b[0m\n\u001b[0m\u001b[0;32m      3\u001b[0m \u001b[1;33m\u001b[0m\u001b[0m\n\u001b[0;32m      4\u001b[0m \u001b[0mmnb_prediction\u001b[0m \u001b[1;33m=\u001b[0m \u001b[0mmnb\u001b[0m\u001b[1;33m.\u001b[0m\u001b[0mpredict\u001b[0m\u001b[1;33m(\u001b[0m\u001b[0mx_test\u001b[0m\u001b[1;33m)\u001b[0m\u001b[1;33m\u001b[0m\u001b[1;33m\u001b[0m\u001b[0m\n\u001b[0;32m      5\u001b[0m \u001b[1;33m\u001b[0m\u001b[0m\n",
      "\u001b[1;32mC:\\ProgramData\\Anaconda3\\lib\\site-packages\\sklearn\\naive_bayes.py\u001b[0m in \u001b[0;36mfit\u001b[1;34m(self, X, y, sample_weight)\u001b[0m\n\u001b[0;32m    608\u001b[0m         self.feature_count_ = np.zeros((n_effective_classes, n_features),\n\u001b[0;32m    609\u001b[0m                                        dtype=np.float64)\n\u001b[1;32m--> 610\u001b[1;33m         \u001b[0mself\u001b[0m\u001b[1;33m.\u001b[0m\u001b[0m_count\u001b[0m\u001b[1;33m(\u001b[0m\u001b[0mX\u001b[0m\u001b[1;33m,\u001b[0m \u001b[0mY\u001b[0m\u001b[1;33m)\u001b[0m\u001b[1;33m\u001b[0m\u001b[1;33m\u001b[0m\u001b[0m\n\u001b[0m\u001b[0;32m    611\u001b[0m         \u001b[0malpha\u001b[0m \u001b[1;33m=\u001b[0m \u001b[0mself\u001b[0m\u001b[1;33m.\u001b[0m\u001b[0m_check_alpha\u001b[0m\u001b[1;33m(\u001b[0m\u001b[1;33m)\u001b[0m\u001b[1;33m\u001b[0m\u001b[1;33m\u001b[0m\u001b[0m\n\u001b[0;32m    612\u001b[0m         \u001b[0mself\u001b[0m\u001b[1;33m.\u001b[0m\u001b[0m_update_feature_log_prob\u001b[0m\u001b[1;33m(\u001b[0m\u001b[0malpha\u001b[0m\u001b[1;33m)\u001b[0m\u001b[1;33m\u001b[0m\u001b[1;33m\u001b[0m\u001b[0m\n",
      "\u001b[1;32mC:\\ProgramData\\Anaconda3\\lib\\site-packages\\sklearn\\naive_bayes.py\u001b[0m in \u001b[0;36m_count\u001b[1;34m(self, X, Y)\u001b[0m\n\u001b[0;32m    712\u001b[0m         \u001b[1;34m\"\"\"Count and smooth feature occurrences.\"\"\"\u001b[0m\u001b[1;33m\u001b[0m\u001b[1;33m\u001b[0m\u001b[0m\n\u001b[0;32m    713\u001b[0m         \u001b[1;32mif\u001b[0m \u001b[0mnp\u001b[0m\u001b[1;33m.\u001b[0m\u001b[0many\u001b[0m\u001b[1;33m(\u001b[0m\u001b[1;33m(\u001b[0m\u001b[0mX\u001b[0m\u001b[1;33m.\u001b[0m\u001b[0mdata\u001b[0m \u001b[1;32mif\u001b[0m \u001b[0missparse\u001b[0m\u001b[1;33m(\u001b[0m\u001b[0mX\u001b[0m\u001b[1;33m)\u001b[0m \u001b[1;32melse\u001b[0m \u001b[0mX\u001b[0m\u001b[1;33m)\u001b[0m \u001b[1;33m<\u001b[0m \u001b[1;36m0\u001b[0m\u001b[1;33m)\u001b[0m\u001b[1;33m:\u001b[0m\u001b[1;33m\u001b[0m\u001b[1;33m\u001b[0m\u001b[0m\n\u001b[1;32m--> 714\u001b[1;33m             \u001b[1;32mraise\u001b[0m \u001b[0mValueError\u001b[0m\u001b[1;33m(\u001b[0m\u001b[1;34m\"Input X must be non-negative\"\u001b[0m\u001b[1;33m)\u001b[0m\u001b[1;33m\u001b[0m\u001b[1;33m\u001b[0m\u001b[0m\n\u001b[0m\u001b[0;32m    715\u001b[0m         \u001b[0mself\u001b[0m\u001b[1;33m.\u001b[0m\u001b[0mfeature_count_\u001b[0m \u001b[1;33m+=\u001b[0m \u001b[0msafe_sparse_dot\u001b[0m\u001b[1;33m(\u001b[0m\u001b[0mY\u001b[0m\u001b[1;33m.\u001b[0m\u001b[0mT\u001b[0m\u001b[1;33m,\u001b[0m \u001b[0mX\u001b[0m\u001b[1;33m)\u001b[0m\u001b[1;33m\u001b[0m\u001b[1;33m\u001b[0m\u001b[0m\n\u001b[0;32m    716\u001b[0m         \u001b[0mself\u001b[0m\u001b[1;33m.\u001b[0m\u001b[0mclass_count_\u001b[0m \u001b[1;33m+=\u001b[0m \u001b[0mY\u001b[0m\u001b[1;33m.\u001b[0m\u001b[0msum\u001b[0m\u001b[1;33m(\u001b[0m\u001b[0maxis\u001b[0m\u001b[1;33m=\u001b[0m\u001b[1;36m0\u001b[0m\u001b[1;33m)\u001b[0m\u001b[1;33m\u001b[0m\u001b[1;33m\u001b[0m\u001b[0m\n",
      "\u001b[1;31mValueError\u001b[0m: Input X must be non-negative"
     ]
    }
   ],
   "source": [
    "mnb = MultinomialNB()\n",
    "mnb.fit(x_train, y_train)\n",
    "\n",
    "mnb_prediction = mnb.predict(x_test)\n",
    "\n",
    "mnb_score = cross_val_score(mnb, x_train, y_train, cv=5)\n",
    "\n",
    "print((mnb_score.mean()*100).round(2))\n",
    "print((mnb_score.std()*100).round(2))"
   ]
  },
  {
   "cell_type": "code",
   "execution_count": 21,
   "metadata": {},
   "outputs": [
    {
     "name": "stdout",
     "output_type": "stream",
     "text": [
      "72.78\n",
      "5.67\n"
     ]
    }
   ],
   "source": [
    "perceptron = Perceptron(max_iter=100000, tol= 1e-3, random_state=23)\n",
    "perceptron.fit(x_train, y_train)\n",
    "\n",
    "perceptron_prediction = perceptron.predict(x_test)\n",
    "\n",
    "perceptron_score = cross_val_score(perceptron, x_train, y_train, cv=5)\n",
    "\n",
    "print((perceptron_score.mean()*100).round(2))\n",
    "print((perceptron_score.std()*100).round(2))"
   ]
  },
  {
   "cell_type": "code",
   "execution_count": 22,
   "metadata": {},
   "outputs": [
    {
     "name": "stdout",
     "output_type": "stream",
     "text": [
      "69.44\n",
      "10.69\n"
     ]
    }
   ],
   "source": [
    "dtc = DecisionTreeClassifier(random_state=23)\n",
    "dtc.fit(x_train, y_train)\n",
    "\n",
    "dtc_prediction = dtc.predict(x_test)\n",
    "\n",
    "dtc_score = cross_val_score(dtc, x_train, y_train, cv=5)\n",
    "\n",
    "print((dtc_score.mean()*100).round(2))\n",
    "print((dtc_score.std()*100).round(2))"
   ]
  },
  {
   "cell_type": "code",
   "execution_count": 23,
   "metadata": {},
   "outputs": [
    {
     "name": "stdout",
     "output_type": "stream",
     "text": [
      "79.44\n",
      "6.71\n"
     ]
    }
   ],
   "source": [
    "rfc = RandomForestClassifier(n_estimators=1000, random_state=23)\n",
    "rfc.fit(x_train, y_train)\n",
    "\n",
    "rfc_prediction = rfc.predict(x_test)\n",
    "\n",
    "rfc_score = cross_val_score(rfc, x_train, y_train, cv=5)\n",
    "\n",
    "print((rfc_score.mean()*100).round(2))\n",
    "print((rfc_score.std()*100).round(2))"
   ]
  },
  {
   "cell_type": "code",
   "execution_count": 24,
   "metadata": {},
   "outputs": [
    {
     "name": "stdout",
     "output_type": "stream",
     "text": [
      "77.78\n",
      "6.8\n"
     ]
    }
   ],
   "source": [
    "lsvc = LinearSVC(max_iter=100000)\n",
    "lsvc.fit(x_train, y_train)\n",
    "\n",
    "lsvc_prediction = lsvc.predict(x_test)\n",
    "\n",
    "lsvc_score = cross_val_score(lsvc, x_train, y_train, cv=5)\n",
    "\n",
    "print((lsvc_score.mean()*100).round(2))\n",
    "print((lsvc_score.std()*100).round(2))"
   ]
  },
  {
   "cell_type": "code",
   "execution_count": 25,
   "metadata": {},
   "outputs": [
    {
     "name": "stdout",
     "output_type": "stream",
     "text": [
      "81.11\n",
      "6.43\n"
     ]
    }
   ],
   "source": [
    "lr = LogisticRegression(solver='lbfgs')\n",
    "lr.fit(x_train, y_train)\n",
    "\n",
    "lr_prediction = lr.predict(x_test)\n",
    "\n",
    "lr_score = cross_val_score(lr, x_train, y_train, cv=5)\n",
    "\n",
    "print((lr_score.mean()*100).round(2))\n",
    "print((lr_score.std()*100).round(2))"
   ]
  },
  {
   "cell_type": "code",
   "execution_count": 26,
   "metadata": {},
   "outputs": [
    {
     "name": "stdout",
     "output_type": "stream",
     "text": [
      "34.72\n",
      "16.57\n"
     ]
    }
   ],
   "source": [
    "linear = LinearRegression(normalize=True)\n",
    "linear.fit(x_train, y_train)\n",
    "\n",
    "linear_prediction = linear.predict(x_test)\n",
    "\n",
    "linear_score = cross_val_score(linear, x_train, y_train, cv=5)\n",
    "\n",
    "print((linear_score.mean()*100).round(2))\n",
    "print((linear_score.std()*100).round(2))"
   ]
  },
  {
   "cell_type": "code",
   "execution_count": 27,
   "metadata": {},
   "outputs": [
    {
     "name": "stdout",
     "output_type": "stream",
     "text": [
      "42.99\n",
      "14.37\n"
     ]
    }
   ],
   "source": [
    "br = BayesianRidge()\n",
    "br.fit(x_train, y_train)\n",
    "\n",
    "br_prediction = br.predict(x_test)\n",
    "\n",
    "br_score = cross_val_score(br, x_train, y_train, cv=5)\n",
    "\n",
    "print((br_score.mean()*100).round(2))\n",
    "print((br_score.std()*100).round(2))"
   ]
  },
  {
   "cell_type": "code",
   "execution_count": 28,
   "metadata": {},
   "outputs": [
    {
     "name": "stdout",
     "output_type": "stream",
     "text": [
      "39.62\n",
      "19.7\n"
     ]
    }
   ],
   "source": [
    "sgdr = SGDRegressor(tol= 1e-3, random_state=23)\n",
    "sgdr.fit(x_train, y_train)\n",
    "\n",
    "sgdr_prediction = sgdr.predict(x_test)\n",
    "\n",
    "sgdr_score = cross_val_score(sgdr, x_train, y_train, cv=5)\n",
    "\n",
    "print((sgdr_score.mean()*100).round(2))\n",
    "print((sgdr_score.std()*100).round(2))"
   ]
  },
  {
   "cell_type": "code",
   "execution_count": 29,
   "metadata": {},
   "outputs": [
    {
     "name": "stdout",
     "output_type": "stream",
     "text": [
      "29.87\n",
      "14.1\n"
     ]
    }
   ],
   "source": [
    "svr = SVR(gamma='scale', tol= 1e-3)\n",
    "svr.fit(x_train, y_train)\n",
    "\n",
    "svr_prediction = svr.predict(x_test)\n",
    "\n",
    "svr_score = cross_val_score(svr, x_train, y_train, cv=5)\n",
    "\n",
    "print((svr_score.mean()*100).round(2))\n",
    "print((svr_score.std()*100).round(2))"
   ]
  },
  {
   "cell_type": "code",
   "execution_count": 30,
   "metadata": {},
   "outputs": [
    {
     "name": "stdout",
     "output_type": "stream",
     "text": [
      "77.22\n",
      "10.0\n"
     ]
    }
   ],
   "source": [
    "svc = SVC(gamma='scale', tol= 1e-3)\n",
    "svc.fit(x_train, y_train)\n",
    "\n",
    "svc_prediction = svc.predict(x_test)\n",
    "\n",
    "svc_score = cross_val_score(svc, x_train, y_train, cv=5)\n",
    "\n",
    "print((svc_score.mean()*100).round(2))\n",
    "print((svc_score.std()*100).round(2))"
   ]
  },
  {
   "cell_type": "code",
   "execution_count": 31,
   "metadata": {},
   "outputs": [
    {
     "name": "stdout",
     "output_type": "stream",
     "text": [
      "35.18\n",
      "13.24\n"
     ]
    }
   ],
   "source": [
    "rfr = RandomForestRegressor(n_estimators=1000, random_state=23)\n",
    "rfr.fit(x_train, y_train)\n",
    "\n",
    "rfr_prediction = rfr.predict(x_test)\n",
    "\n",
    "rfr_score = cross_val_score(rfr, x_train, y_train, cv=5)\n",
    "\n",
    "print((rfr_score.mean()*100).round(2))\n",
    "print((rfr_score.std()*100).round(2))"
   ]
  },
  {
   "cell_type": "markdown",
   "metadata": {},
   "source": [
    "## Hyperparameter Tuning"
   ]
  },
  {
   "cell_type": "code",
   "execution_count": 32,
   "metadata": {},
   "outputs": [
    {
     "name": "stdout",
     "output_type": "stream",
     "text": [
      "Best estimator that was chosen by the search:\n",
      "LogisticRegression(C=0.1, class_weight=None, dual=False, fit_intercept=False,\n",
      "          intercept_scaling=0.6500000000000001, max_iter=1000,\n",
      "          multi_class='ovr', n_jobs=-1, penalty='l2', random_state=23,\n",
      "          solver='newton-cg', tol=0.0001, verbose=0, warm_start=False)\n"
     ]
    },
    {
     "data": {
      "text/plain": [
       "'Mean cross-validated score of the best estimator is: 82.22'"
      ]
     },
     "execution_count": 32,
     "metadata": {},
     "output_type": "execute_result"
    }
   ],
   "source": [
    "lr = LogisticRegression(random_state=23, n_jobs=-1)\n",
    "\n",
    "\n",
    "penalty = ['l2', 'l1', 'elasticnet', 'none']\n",
    "\n",
    "dual= [True, False]\n",
    "\n",
    "solver=['newton-cg', 'lbfgs', 'liblinear', 'sag', 'saga']\n",
    "\n",
    "C = [0.001, 0.01, 0.1, 1, 5, 10, 100]\n",
    "\n",
    "fit_intercept = [True, False]\n",
    "\n",
    "intercept_scaling= np.arange(0.05 , 2.05, 0.05)\n",
    "\n",
    "max_iter = [1000,10000]\n",
    "    \n",
    "multi_class= ['ovr', 'multinomial', 'auto']\n",
    "\n",
    "lr_param_grid= dict(penalty=penalty, dual=dual, solver=solver, C=C, fit_intercept=fit_intercept, \n",
    "                    intercept_scaling=intercept_scaling, max_iter=max_iter, multi_class=multi_class)\n",
    "\n",
    "lr_grid= RandomizedSearchCV(lr, lr_param_grid, cv=5, scoring='accuracy',\n",
    "                            n_iter=400, n_jobs=-1, random_state=23, error_score=0, iid=False)\n",
    "\n",
    "lr_grid.fit(x_train, y_train)\n",
    "\n",
    "print(\"Best estimator that was chosen by the search:\")\n",
    "print(lr_grid.best_estimator_)\n",
    "f'Mean cross-validated score of the best estimator is: {(lr_grid.best_score_*100).round(2)}'"
   ]
  },
  {
   "cell_type": "code",
   "execution_count": 33,
   "metadata": {},
   "outputs": [
    {
     "name": "stdout",
     "output_type": "stream",
     "text": [
      "82.22\n",
      "7.58\n"
     ]
    }
   ],
   "source": [
    "lr2 = lr_grid.best_estimator_\n",
    "lr2.fit(x_train, y_train)\n",
    "\n",
    "lr2_prediction = lr2.predict_proba(x_test)\n",
    "\n",
    "lr2_score = cross_val_score(lr2, x_train, y_train, cv=5)\n",
    "\n",
    "print((lr2_score.mean()*100).round(2))\n",
    "print((lr2_score.std()*100).round(2))"
   ]
  },
  {
   "cell_type": "code",
   "execution_count": 34,
   "metadata": {},
   "outputs": [],
   "source": [
    "lr2_prediction = pd.DataFrame(lr2_prediction)"
   ]
  },
  {
   "cell_type": "code",
   "execution_count": 35,
   "metadata": {},
   "outputs": [
    {
     "name": "stdout",
     "output_type": "stream",
     "text": [
      "<class 'pandas.core.frame.DataFrame'>\n",
      "RangeIndex: 90 entries, 0 to 89\n",
      "Data columns (total 2 columns):\n",
      "patient_id               90 non-null object\n",
      "heart_disease_present    90 non-null float64\n",
      "dtypes: float64(1), object(1)\n",
      "memory usage: 1.5+ KB\n",
      "None\n"
     ]
    },
    {
     "data": {
      "text/html": [
       "<div>\n",
       "<style scoped>\n",
       "    .dataframe tbody tr th:only-of-type {\n",
       "        vertical-align: middle;\n",
       "    }\n",
       "\n",
       "    .dataframe tbody tr th {\n",
       "        vertical-align: top;\n",
       "    }\n",
       "\n",
       "    .dataframe thead th {\n",
       "        text-align: right;\n",
       "    }\n",
       "</style>\n",
       "<table border=\"1\" class=\"dataframe\">\n",
       "  <thead>\n",
       "    <tr style=\"text-align: right;\">\n",
       "      <th></th>\n",
       "      <th>patient_id</th>\n",
       "      <th>heart_disease_present</th>\n",
       "    </tr>\n",
       "  </thead>\n",
       "  <tbody>\n",
       "    <tr>\n",
       "      <th>0</th>\n",
       "      <td>olalu7</td>\n",
       "      <td>0.451580</td>\n",
       "    </tr>\n",
       "    <tr>\n",
       "      <th>1</th>\n",
       "      <td>z9n6mx</td>\n",
       "      <td>0.127255</td>\n",
       "    </tr>\n",
       "    <tr>\n",
       "      <th>2</th>\n",
       "      <td>5k4413</td>\n",
       "      <td>0.936419</td>\n",
       "    </tr>\n",
       "    <tr>\n",
       "      <th>3</th>\n",
       "      <td>mrg7q5</td>\n",
       "      <td>0.067847</td>\n",
       "    </tr>\n",
       "    <tr>\n",
       "      <th>4</th>\n",
       "      <td>uki4do</td>\n",
       "      <td>0.891971</td>\n",
       "    </tr>\n",
       "  </tbody>\n",
       "</table>\n",
       "</div>"
      ],
      "text/plain": [
       "  patient_id  heart_disease_present\n",
       "0     olalu7               0.451580\n",
       "1     z9n6mx               0.127255\n",
       "2     5k4413               0.936419\n",
       "3     mrg7q5               0.067847\n",
       "4     uki4do               0.891971"
      ]
     },
     "execution_count": 35,
     "metadata": {},
     "output_type": "execute_result"
    }
   ],
   "source": [
    "cleveland_heart_disease_lr_prediction = test_values.patient_id.to_frame('patient_id')\n",
    "cleveland_heart_disease_lr_prediction['heart_disease_present'] = lr2_prediction[1]\n",
    "print(cleveland_heart_disease_lr_prediction.info())\n",
    "cleveland_heart_disease_lr_prediction.head()"
   ]
  },
  {
   "cell_type": "code",
   "execution_count": 36,
   "metadata": {},
   "outputs": [],
   "source": [
    "cleveland_heart_disease_lr_prediction.to_csv('cleveland_heart_disease_lr2_prediction.csv', index = False) #DD submission loss of 0.36441 Rank:530/3654"
   ]
  },
  {
   "cell_type": "code",
   "execution_count": 37,
   "metadata": {},
   "outputs": [
    {
     "name": "stdout",
     "output_type": "stream",
     "text": [
      "Best estimator that was chosen by the search:\n",
      "SVC(C=0.20000000000000004, cache_size=200, class_weight=None, coef0=0.001,\n",
      "  decision_function_shape='ovo', degree=70, gamma='auto_deprecated',\n",
      "  kernel='rbf', max_iter=10000, probability=True, random_state=23,\n",
      "  shrinking=False, tol=0.001, verbose=False)\n"
     ]
    },
    {
     "data": {
      "text/plain": [
       "'Mean cross-validated score of the best estimator is: 82.78'"
      ]
     },
     "execution_count": 37,
     "metadata": {},
     "output_type": "execute_result"
    }
   ],
   "source": [
    "svc = SVC(probability=True, max_iter=10000, random_state=23)\n",
    "\n",
    "\n",
    "C= [0.00001, 0.0001, 0.001, 0.01] + np.arange(0.1, 1.05, 0.05).tolist() + np.arange(1, 11 , 1).tolist()\n",
    "\n",
    "kernel= ['linear', 'poly', 'rbf', 'sigmoid']\n",
    "\n",
    "degree= np.arange(0.1, 1.00, 0.05).tolist() + np.arange(1, 10 , 1).tolist() + np.arange(10, 110 , 10).tolist()\n",
    "\n",
    "gamma= ['auto_deprecated', 'auto', 'scale']\n",
    "\n",
    "decision_function_shape = ['ovr', 'ovo']\n",
    "\n",
    "coef0= [0.00001, 0.0001, 0.001, 0.01] + np.arange(0.1, 1.05, 0.05).tolist() + np.arange(1, 11 , 1).tolist()\n",
    "\n",
    "shrinking = [True, False]\n",
    "\n",
    "svc_param_grid= dict(kernel=kernel, degree=degree, C=C, coef0=coef0, gamma=gamma,\n",
    "                      shrinking = shrinking, decision_function_shape=decision_function_shape) \n",
    "\n",
    "svc_grid= RandomizedSearchCV(svc, svc_param_grid, cv=5, scoring='accuracy',\n",
    "                              n_iter=2000, n_jobs=-1, random_state=23, error_score=0, iid=False)\n",
    "\n",
    "svc_grid.fit(x_train, y_train)\n",
    "\n",
    "\n",
    "print(\"Best estimator that was chosen by the search:\")\n",
    "print(svc_grid.best_estimator_)\n",
    "f'Mean cross-validated score of the best estimator is: {(svc_grid.best_score_*100).round(2)}'"
   ]
  },
  {
   "cell_type": "code",
   "execution_count": 38,
   "metadata": {},
   "outputs": [
    {
     "name": "stdout",
     "output_type": "stream",
     "text": [
      "82.22\n",
      "7.58\n"
     ]
    }
   ],
   "source": [
    "svc2 = lr_grid.best_estimator_\n",
    "svc2.fit(x_train, y_train)\n",
    "\n",
    "svc2_prediction = svc2.predict_proba(x_test)\n",
    "\n",
    "svc2_score = cross_val_score(svc2, x_train, y_train, cv=5)\n",
    "              \n",
    "print((svc2_score.mean()*100).round(2))\n",
    "print((svc2_score.std()*100).round(2))"
   ]
  },
  {
   "cell_type": "code",
   "execution_count": 39,
   "metadata": {},
   "outputs": [],
   "source": [
    "svc2_prediction = pd.DataFrame(svc2_prediction)"
   ]
  },
  {
   "cell_type": "code",
   "execution_count": 40,
   "metadata": {},
   "outputs": [
    {
     "name": "stdout",
     "output_type": "stream",
     "text": [
      "<class 'pandas.core.frame.DataFrame'>\n",
      "RangeIndex: 90 entries, 0 to 89\n",
      "Data columns (total 2 columns):\n",
      "patient_id               90 non-null object\n",
      "heart_disease_present    90 non-null float64\n",
      "dtypes: float64(1), object(1)\n",
      "memory usage: 1.5+ KB\n",
      "None\n"
     ]
    },
    {
     "data": {
      "text/html": [
       "<div>\n",
       "<style scoped>\n",
       "    .dataframe tbody tr th:only-of-type {\n",
       "        vertical-align: middle;\n",
       "    }\n",
       "\n",
       "    .dataframe tbody tr th {\n",
       "        vertical-align: top;\n",
       "    }\n",
       "\n",
       "    .dataframe thead th {\n",
       "        text-align: right;\n",
       "    }\n",
       "</style>\n",
       "<table border=\"1\" class=\"dataframe\">\n",
       "  <thead>\n",
       "    <tr style=\"text-align: right;\">\n",
       "      <th></th>\n",
       "      <th>patient_id</th>\n",
       "      <th>heart_disease_present</th>\n",
       "    </tr>\n",
       "  </thead>\n",
       "  <tbody>\n",
       "    <tr>\n",
       "      <th>0</th>\n",
       "      <td>olalu7</td>\n",
       "      <td>0.451580</td>\n",
       "    </tr>\n",
       "    <tr>\n",
       "      <th>1</th>\n",
       "      <td>z9n6mx</td>\n",
       "      <td>0.127255</td>\n",
       "    </tr>\n",
       "    <tr>\n",
       "      <th>2</th>\n",
       "      <td>5k4413</td>\n",
       "      <td>0.936419</td>\n",
       "    </tr>\n",
       "    <tr>\n",
       "      <th>3</th>\n",
       "      <td>mrg7q5</td>\n",
       "      <td>0.067847</td>\n",
       "    </tr>\n",
       "    <tr>\n",
       "      <th>4</th>\n",
       "      <td>uki4do</td>\n",
       "      <td>0.891971</td>\n",
       "    </tr>\n",
       "  </tbody>\n",
       "</table>\n",
       "</div>"
      ],
      "text/plain": [
       "  patient_id  heart_disease_present\n",
       "0     olalu7               0.451580\n",
       "1     z9n6mx               0.127255\n",
       "2     5k4413               0.936419\n",
       "3     mrg7q5               0.067847\n",
       "4     uki4do               0.891971"
      ]
     },
     "execution_count": 40,
     "metadata": {},
     "output_type": "execute_result"
    }
   ],
   "source": [
    "cleveland_heart_disease_svc2_prediction = test_values.patient_id.to_frame('patient_id')\n",
    "cleveland_heart_disease_svc2_prediction['heart_disease_present'] = svc2_prediction[1].round(6)\n",
    "print(cleveland_heart_disease_svc2_prediction.info())\n",
    "cleveland_heart_disease_svc2_prediction.head()"
   ]
  },
  {
   "cell_type": "code",
   "execution_count": 41,
   "metadata": {},
   "outputs": [],
   "source": [
    "#cleveland_heart_disease_svc2_prediction.to_csv('cleveland_heart_disease_svc2_prediction.csv', index = False) #DD submission log loss = 0.36441"
   ]
  },
  {
   "cell_type": "code",
   "execution_count": 42,
   "metadata": {},
   "outputs": [
    {
     "name": "stdout",
     "output_type": "stream",
     "text": [
      "Best estimator that was chosen by the search:\n",
      "GaussianNB(priors=None, var_smoothing=0.01)\n"
     ]
    },
    {
     "data": {
      "text/plain": [
       "'Mean cross-validated score of the best estimator is: 80.56'"
      ]
     },
     "execution_count": 42,
     "metadata": {},
     "output_type": "execute_result"
    }
   ],
   "source": [
    "gnb = GaussianNB()\n",
    "\n",
    "var_smoothing=[ 0, 0.00000001, 0.0000001, 0.000001, 0.00001, 0.0001, 0.001, 0.01] + np.arange(0.1, 1.05, 0.05).tolist() + np.arange(1, 11 , 1).tolist()\n",
    "\n",
    "gnb_param_grid= dict(var_smoothing=var_smoothing) \n",
    "\n",
    "gnb_grid= RandomizedSearchCV(gnb, gnb_param_grid, cv=5, scoring='accuracy',\n",
    "                              n_iter=37, n_jobs=-1, random_state=23, error_score=0, iid=False)\n",
    "\n",
    "gnb_grid.fit(x_train, y_train)\n",
    "\n",
    "\n",
    "print(\"Best estimator that was chosen by the search:\")\n",
    "print(gnb_grid.best_estimator_)\n",
    "f'Mean cross-validated score of the best estimator is: {(gnb_grid.best_score_*100).round(2)}'"
   ]
  },
  {
   "cell_type": "code",
   "execution_count": 43,
   "metadata": {},
   "outputs": [
    {
     "name": "stdout",
     "output_type": "stream",
     "text": [
      "71.67\n",
      "6.67\n"
     ]
    }
   ],
   "source": [
    "gnb2 = gnb_grid.best_estimator_\n",
    "gnb2.fit(x_train, y_train)\n",
    "\n",
    "gnb2_prediction = gnb2.predict_proba(x_test)\n",
    "\n",
    "gnb2_score = cross_val_score(gnb, x_train, y_train, cv=5)\n",
    "\n",
    "print((gnb2_score.mean()*100).round(2))\n",
    "print((gnb2_score.std()*100).round(2))"
   ]
  },
  {
   "cell_type": "code",
   "execution_count": 44,
   "metadata": {},
   "outputs": [
    {
     "data": {
      "text/html": [
       "<div>\n",
       "<style scoped>\n",
       "    .dataframe tbody tr th:only-of-type {\n",
       "        vertical-align: middle;\n",
       "    }\n",
       "\n",
       "    .dataframe tbody tr th {\n",
       "        vertical-align: top;\n",
       "    }\n",
       "\n",
       "    .dataframe thead th {\n",
       "        text-align: right;\n",
       "    }\n",
       "</style>\n",
       "<table border=\"1\" class=\"dataframe\">\n",
       "  <thead>\n",
       "    <tr style=\"text-align: right;\">\n",
       "      <th></th>\n",
       "      <th>0</th>\n",
       "      <th>1</th>\n",
       "    </tr>\n",
       "  </thead>\n",
       "  <tbody>\n",
       "    <tr>\n",
       "      <th>0</th>\n",
       "      <td>0.954546</td>\n",
       "      <td>0.045454</td>\n",
       "    </tr>\n",
       "    <tr>\n",
       "      <th>1</th>\n",
       "      <td>1.000000</td>\n",
       "      <td>0.000000</td>\n",
       "    </tr>\n",
       "    <tr>\n",
       "      <th>2</th>\n",
       "      <td>0.000036</td>\n",
       "      <td>0.999964</td>\n",
       "    </tr>\n",
       "    <tr>\n",
       "      <th>3</th>\n",
       "      <td>1.000000</td>\n",
       "      <td>0.000000</td>\n",
       "    </tr>\n",
       "    <tr>\n",
       "      <th>4</th>\n",
       "      <td>0.000095</td>\n",
       "      <td>0.999905</td>\n",
       "    </tr>\n",
       "  </tbody>\n",
       "</table>\n",
       "</div>"
      ],
      "text/plain": [
       "          0         1\n",
       "0  0.954546  0.045454\n",
       "1  1.000000  0.000000\n",
       "2  0.000036  0.999964\n",
       "3  1.000000  0.000000\n",
       "4  0.000095  0.999905"
      ]
     },
     "execution_count": 44,
     "metadata": {},
     "output_type": "execute_result"
    }
   ],
   "source": [
    "gnb2_prediction = pd.DataFrame(gnb2_prediction.round(6))\n",
    "gnb2_prediction.head()"
   ]
  },
  {
   "cell_type": "code",
   "execution_count": 45,
   "metadata": {},
   "outputs": [
    {
     "name": "stdout",
     "output_type": "stream",
     "text": [
      "<class 'pandas.core.frame.DataFrame'>\n",
      "RangeIndex: 90 entries, 0 to 89\n",
      "Data columns (total 2 columns):\n",
      "patient_id               90 non-null object\n",
      "heart_disease_present    90 non-null float64\n",
      "dtypes: float64(1), object(1)\n",
      "memory usage: 1.5+ KB\n",
      "None\n"
     ]
    },
    {
     "data": {
      "text/html": [
       "<div>\n",
       "<style scoped>\n",
       "    .dataframe tbody tr th:only-of-type {\n",
       "        vertical-align: middle;\n",
       "    }\n",
       "\n",
       "    .dataframe tbody tr th {\n",
       "        vertical-align: top;\n",
       "    }\n",
       "\n",
       "    .dataframe thead th {\n",
       "        text-align: right;\n",
       "    }\n",
       "</style>\n",
       "<table border=\"1\" class=\"dataframe\">\n",
       "  <thead>\n",
       "    <tr style=\"text-align: right;\">\n",
       "      <th></th>\n",
       "      <th>patient_id</th>\n",
       "      <th>heart_disease_present</th>\n",
       "    </tr>\n",
       "  </thead>\n",
       "  <tbody>\n",
       "    <tr>\n",
       "      <th>0</th>\n",
       "      <td>olalu7</td>\n",
       "      <td>0.045454</td>\n",
       "    </tr>\n",
       "    <tr>\n",
       "      <th>1</th>\n",
       "      <td>z9n6mx</td>\n",
       "      <td>0.000000</td>\n",
       "    </tr>\n",
       "    <tr>\n",
       "      <th>2</th>\n",
       "      <td>5k4413</td>\n",
       "      <td>0.999964</td>\n",
       "    </tr>\n",
       "    <tr>\n",
       "      <th>3</th>\n",
       "      <td>mrg7q5</td>\n",
       "      <td>0.000000</td>\n",
       "    </tr>\n",
       "    <tr>\n",
       "      <th>4</th>\n",
       "      <td>uki4do</td>\n",
       "      <td>0.999905</td>\n",
       "    </tr>\n",
       "  </tbody>\n",
       "</table>\n",
       "</div>"
      ],
      "text/plain": [
       "  patient_id  heart_disease_present\n",
       "0     olalu7               0.045454\n",
       "1     z9n6mx               0.000000\n",
       "2     5k4413               0.999964\n",
       "3     mrg7q5               0.000000\n",
       "4     uki4do               0.999905"
      ]
     },
     "execution_count": 45,
     "metadata": {},
     "output_type": "execute_result"
    }
   ],
   "source": [
    "cleveland_heart_disease_gnb2_prediction = test_values.patient_id.to_frame('patient_id')\n",
    "cleveland_heart_disease_gnb2_prediction['heart_disease_present'] = gnb2_prediction[1].round(6)\n",
    "print(cleveland_heart_disease_gnb2_prediction.info())\n",
    "cleveland_heart_disease_gnb2_prediction.head()"
   ]
  },
  {
   "cell_type": "code",
   "execution_count": 46,
   "metadata": {},
   "outputs": [],
   "source": [
    "#cleveland_heart_disease_gnb2_prediction.to_csv('cleveland_heart_disease_gnb2_prediction.csv', index = False) #DD submission log loss = 0.52932"
   ]
  },
  {
   "cell_type": "code",
   "execution_count": 47,
   "metadata": {},
   "outputs": [
    {
     "name": "stdout",
     "output_type": "stream",
     "text": [
      "Best estimator that was chosen by the search:\n",
      "RandomForestClassifier(bootstrap=True, class_weight=None, criterion='gini',\n",
      "            max_depth=None, max_features='auto', max_leaf_nodes=None,\n",
      "            min_impurity_decrease=0.0, min_impurity_split=None,\n",
      "            min_samples_leaf=1, min_samples_split=8,\n",
      "            min_weight_fraction_leaf=0.0, n_estimators=10000, n_jobs=-1,\n",
      "            oob_score=False, random_state=23, verbose=0, warm_start=False)\n"
     ]
    },
    {
     "data": {
      "text/plain": [
       "'Mean cross-validated score of the best estimator is: 81.11'"
      ]
     },
     "execution_count": 47,
     "metadata": {},
     "output_type": "execute_result"
    }
   ],
   "source": [
    "rfc = RandomForestClassifier(random_state=23, n_jobs=-1)\n",
    "\n",
    "\n",
    "criterion = ['gini', 'entropy'] #The function to measure the quality of a split\n",
    "\n",
    "n_estimators = [1, 10, 100, 1000, 10000] #The number of trees in the forest\n",
    "\n",
    "min_samples_split = [2,4,8] #The minimum number of samples required to split an internal node\n",
    "\n",
    "min_samples_leaf = [1,2,4] #The minimum number of samples required to be at a leaf node\n",
    "\n",
    "max_features = ['auto', 'sqrt', 'log2'] #The number of features to consider when looking for the best split\n",
    "\n",
    "rfc_param_grid= dict(criterion=criterion, n_estimators=n_estimators, \n",
    "                     min_samples_leaf=min_samples_leaf, min_samples_split=min_samples_split, max_features=max_features)\n",
    "\n",
    "rfc_grid= RandomizedSearchCV(rfc, rfc_param_grid, cv=5, scoring='accuracy',\n",
    "                             n_jobs=-1, n_iter=270, random_state=23, error_score=0, iid=False)\n",
    "\n",
    "rfc_grid.fit(x_train, y_train)\n",
    "\n",
    "print(\"Best estimator that was chosen by the search:\")\n",
    "print(rfc_grid.best_estimator_)\n",
    "f'Mean cross-validated score of the best estimator is: {(rfc_grid.best_score_*100).round(2)}'"
   ]
  },
  {
   "cell_type": "code",
   "execution_count": 48,
   "metadata": {},
   "outputs": [
    {
     "name": "stdout",
     "output_type": "stream",
     "text": [
      "81.11\n",
      "7.54\n"
     ]
    }
   ],
   "source": [
    "rfc2 = rfc_grid.best_estimator_\n",
    "rfc2.fit(x_train, y_train)\n",
    "\n",
    "rfc2_prediction = rfc2.predict_proba(x_test)\n",
    "\n",
    "rfc2_score = cross_val_score(rfc2, x_train, y_train, cv=5)\n",
    "\n",
    "print((rfc2_score.mean()*100).round(2))\n",
    "print((rfc2_score.std()*100).round(2))"
   ]
  },
  {
   "cell_type": "code",
   "execution_count": 49,
   "metadata": {},
   "outputs": [
    {
     "data": {
      "text/html": [
       "<div>\n",
       "<style scoped>\n",
       "    .dataframe tbody tr th:only-of-type {\n",
       "        vertical-align: middle;\n",
       "    }\n",
       "\n",
       "    .dataframe tbody tr th {\n",
       "        vertical-align: top;\n",
       "    }\n",
       "\n",
       "    .dataframe thead th {\n",
       "        text-align: right;\n",
       "    }\n",
       "</style>\n",
       "<table border=\"1\" class=\"dataframe\">\n",
       "  <thead>\n",
       "    <tr style=\"text-align: right;\">\n",
       "      <th></th>\n",
       "      <th>feature</th>\n",
       "      <th>feature_importances_</th>\n",
       "    </tr>\n",
       "  </thead>\n",
       "  <tbody>\n",
       "    <tr>\n",
       "      <th>21</th>\n",
       "      <td>thal_reversible_defect</td>\n",
       "      <td>9.71</td>\n",
       "    </tr>\n",
       "    <tr>\n",
       "      <th>20</th>\n",
       "      <td>thal_normal</td>\n",
       "      <td>9.44</td>\n",
       "    </tr>\n",
       "    <tr>\n",
       "      <th>25</th>\n",
       "      <td>chest_pain_type_4</td>\n",
       "      <td>8.47</td>\n",
       "    </tr>\n",
       "    <tr>\n",
       "      <th>5</th>\n",
       "      <td>oldpeak_eq_st_depression</td>\n",
       "      <td>7.01</td>\n",
       "    </tr>\n",
       "    <tr>\n",
       "      <th>2</th>\n",
       "      <td>num_major_vessels</td>\n",
       "      <td>6.09</td>\n",
       "    </tr>\n",
       "    <tr>\n",
       "      <th>9</th>\n",
       "      <td>exercise_induced_angina</td>\n",
       "      <td>5.08</td>\n",
       "    </tr>\n",
       "    <tr>\n",
       "      <th>14</th>\n",
       "      <td>heart_rate/age</td>\n",
       "      <td>4.86</td>\n",
       "    </tr>\n",
       "    <tr>\n",
       "      <th>10</th>\n",
       "      <td>heart_rate/blood_pressure</td>\n",
       "      <td>4.83</td>\n",
       "    </tr>\n",
       "    <tr>\n",
       "      <th>8</th>\n",
       "      <td>max_heart_rate_achieved</td>\n",
       "      <td>4.56</td>\n",
       "    </tr>\n",
       "    <tr>\n",
       "      <th>15</th>\n",
       "      <td>log10(heart_rate)</td>\n",
       "      <td>3.68</td>\n",
       "    </tr>\n",
       "    <tr>\n",
       "      <th>12</th>\n",
       "      <td>blood_pressure/age</td>\n",
       "      <td>3.62</td>\n",
       "    </tr>\n",
       "    <tr>\n",
       "      <th>7</th>\n",
       "      <td>age</td>\n",
       "      <td>3.53</td>\n",
       "    </tr>\n",
       "    <tr>\n",
       "      <th>18</th>\n",
       "      <td>log10(age)</td>\n",
       "      <td>3.15</td>\n",
       "    </tr>\n",
       "    <tr>\n",
       "      <th>11</th>\n",
       "      <td>cholesterol/blood_pressure</td>\n",
       "      <td>3.06</td>\n",
       "    </tr>\n",
       "    <tr>\n",
       "      <th>0</th>\n",
       "      <td>slope_of_peak_exercise_st_segment</td>\n",
       "      <td>2.94</td>\n",
       "    </tr>\n",
       "    <tr>\n",
       "      <th>4</th>\n",
       "      <td>serum_cholesterol_mg_per_dl</td>\n",
       "      <td>2.92</td>\n",
       "    </tr>\n",
       "    <tr>\n",
       "      <th>13</th>\n",
       "      <td>cholesterol/age</td>\n",
       "      <td>2.73</td>\n",
       "    </tr>\n",
       "    <tr>\n",
       "      <th>1</th>\n",
       "      <td>resting_blood_pressure</td>\n",
       "      <td>2.54</td>\n",
       "    </tr>\n",
       "    <tr>\n",
       "      <th>6</th>\n",
       "      <td>sex</td>\n",
       "      <td>2.53</td>\n",
       "    </tr>\n",
       "    <tr>\n",
       "      <th>16</th>\n",
       "      <td>log10(cholesterol)</td>\n",
       "      <td>2.49</td>\n",
       "    </tr>\n",
       "    <tr>\n",
       "      <th>17</th>\n",
       "      <td>log10(blood_pressure)</td>\n",
       "      <td>2.44</td>\n",
       "    </tr>\n",
       "    <tr>\n",
       "      <th>24</th>\n",
       "      <td>chest_pain_type_3</td>\n",
       "      <td>1.25</td>\n",
       "    </tr>\n",
       "    <tr>\n",
       "      <th>22</th>\n",
       "      <td>chest_pain_type_1</td>\n",
       "      <td>0.94</td>\n",
       "    </tr>\n",
       "    <tr>\n",
       "      <th>26</th>\n",
       "      <td>resting_ekg_results_0</td>\n",
       "      <td>0.56</td>\n",
       "    </tr>\n",
       "    <tr>\n",
       "      <th>28</th>\n",
       "      <td>resting_ekg_results_2</td>\n",
       "      <td>0.56</td>\n",
       "    </tr>\n",
       "    <tr>\n",
       "      <th>23</th>\n",
       "      <td>chest_pain_type_2</td>\n",
       "      <td>0.47</td>\n",
       "    </tr>\n",
       "    <tr>\n",
       "      <th>19</th>\n",
       "      <td>thal_fixed_defect</td>\n",
       "      <td>0.28</td>\n",
       "    </tr>\n",
       "    <tr>\n",
       "      <th>3</th>\n",
       "      <td>fasting_blood_sugar_gt_120_mg_per_dl</td>\n",
       "      <td>0.22</td>\n",
       "    </tr>\n",
       "    <tr>\n",
       "      <th>27</th>\n",
       "      <td>resting_ekg_results_1</td>\n",
       "      <td>0.04</td>\n",
       "    </tr>\n",
       "  </tbody>\n",
       "</table>\n",
       "</div>"
      ],
      "text/plain": [
       "                                 feature  feature_importances_\n",
       "21                thal_reversible_defect                  9.71\n",
       "20                           thal_normal                  9.44\n",
       "25                     chest_pain_type_4                  8.47\n",
       "5               oldpeak_eq_st_depression                  7.01\n",
       "2                      num_major_vessels                  6.09\n",
       "9                exercise_induced_angina                  5.08\n",
       "14                        heart_rate/age                  4.86\n",
       "10             heart_rate/blood_pressure                  4.83\n",
       "8                max_heart_rate_achieved                  4.56\n",
       "15                     log10(heart_rate)                  3.68\n",
       "12                    blood_pressure/age                  3.62\n",
       "7                                    age                  3.53\n",
       "18                            log10(age)                  3.15\n",
       "11            cholesterol/blood_pressure                  3.06\n",
       "0      slope_of_peak_exercise_st_segment                  2.94\n",
       "4            serum_cholesterol_mg_per_dl                  2.92\n",
       "13                       cholesterol/age                  2.73\n",
       "1                 resting_blood_pressure                  2.54\n",
       "6                                    sex                  2.53\n",
       "16                    log10(cholesterol)                  2.49\n",
       "17                 log10(blood_pressure)                  2.44\n",
       "24                     chest_pain_type_3                  1.25\n",
       "22                     chest_pain_type_1                  0.94\n",
       "26                 resting_ekg_results_0                  0.56\n",
       "28                 resting_ekg_results_2                  0.56\n",
       "23                     chest_pain_type_2                  0.47\n",
       "19                     thal_fixed_defect                  0.28\n",
       "3   fasting_blood_sugar_gt_120_mg_per_dl                  0.22\n",
       "27                 resting_ekg_results_1                  0.04"
      ]
     },
     "execution_count": 49,
     "metadata": {},
     "output_type": "execute_result"
    }
   ],
   "source": [
    "rfc_features= pd.DataFrame()\n",
    "rfc_features['feature']= x_train.columns\n",
    "rfc_features['feature_importances_']= rfc2.feature_importances_*100\n",
    "rfc_features.sort_values(by='feature_importances_', ascending=False).round(2)\n",
    "#zip(x_train.columns, rfc2.feature_importances_)"
   ]
  },
  {
   "cell_type": "code",
   "execution_count": 50,
   "metadata": {},
   "outputs": [
    {
     "data": {
      "text/html": [
       "<div>\n",
       "<style scoped>\n",
       "    .dataframe tbody tr th:only-of-type {\n",
       "        vertical-align: middle;\n",
       "    }\n",
       "\n",
       "    .dataframe tbody tr th {\n",
       "        vertical-align: top;\n",
       "    }\n",
       "\n",
       "    .dataframe thead th {\n",
       "        text-align: right;\n",
       "    }\n",
       "</style>\n",
       "<table border=\"1\" class=\"dataframe\">\n",
       "  <thead>\n",
       "    <tr style=\"text-align: right;\">\n",
       "      <th></th>\n",
       "      <th>0</th>\n",
       "      <th>1</th>\n",
       "    </tr>\n",
       "  </thead>\n",
       "  <tbody>\n",
       "    <tr>\n",
       "      <th>0</th>\n",
       "      <td>0.563488</td>\n",
       "      <td>0.436512</td>\n",
       "    </tr>\n",
       "    <tr>\n",
       "      <th>1</th>\n",
       "      <td>0.807111</td>\n",
       "      <td>0.192889</td>\n",
       "    </tr>\n",
       "    <tr>\n",
       "      <th>2</th>\n",
       "      <td>0.105916</td>\n",
       "      <td>0.894084</td>\n",
       "    </tr>\n",
       "    <tr>\n",
       "      <th>3</th>\n",
       "      <td>0.624649</td>\n",
       "      <td>0.375351</td>\n",
       "    </tr>\n",
       "    <tr>\n",
       "      <th>4</th>\n",
       "      <td>0.243495</td>\n",
       "      <td>0.756505</td>\n",
       "    </tr>\n",
       "  </tbody>\n",
       "</table>\n",
       "</div>"
      ],
      "text/plain": [
       "          0         1\n",
       "0  0.563488  0.436512\n",
       "1  0.807111  0.192889\n",
       "2  0.105916  0.894084\n",
       "3  0.624649  0.375351\n",
       "4  0.243495  0.756505"
      ]
     },
     "execution_count": 50,
     "metadata": {},
     "output_type": "execute_result"
    }
   ],
   "source": [
    "rfc2_prediction = pd.DataFrame(rfc2_prediction.round(6))\n",
    "rfc2_prediction.head()"
   ]
  },
  {
   "cell_type": "code",
   "execution_count": 51,
   "metadata": {},
   "outputs": [
    {
     "name": "stdout",
     "output_type": "stream",
     "text": [
      "<class 'pandas.core.frame.DataFrame'>\n",
      "RangeIndex: 90 entries, 0 to 89\n",
      "Data columns (total 2 columns):\n",
      "patient_id               90 non-null object\n",
      "heart_disease_present    90 non-null float64\n",
      "dtypes: float64(1), object(1)\n",
      "memory usage: 1.5+ KB\n",
      "None\n"
     ]
    },
    {
     "data": {
      "text/html": [
       "<div>\n",
       "<style scoped>\n",
       "    .dataframe tbody tr th:only-of-type {\n",
       "        vertical-align: middle;\n",
       "    }\n",
       "\n",
       "    .dataframe tbody tr th {\n",
       "        vertical-align: top;\n",
       "    }\n",
       "\n",
       "    .dataframe thead th {\n",
       "        text-align: right;\n",
       "    }\n",
       "</style>\n",
       "<table border=\"1\" class=\"dataframe\">\n",
       "  <thead>\n",
       "    <tr style=\"text-align: right;\">\n",
       "      <th></th>\n",
       "      <th>patient_id</th>\n",
       "      <th>heart_disease_present</th>\n",
       "    </tr>\n",
       "  </thead>\n",
       "  <tbody>\n",
       "    <tr>\n",
       "      <th>0</th>\n",
       "      <td>olalu7</td>\n",
       "      <td>0.436512</td>\n",
       "    </tr>\n",
       "    <tr>\n",
       "      <th>1</th>\n",
       "      <td>z9n6mx</td>\n",
       "      <td>0.192889</td>\n",
       "    </tr>\n",
       "    <tr>\n",
       "      <th>2</th>\n",
       "      <td>5k4413</td>\n",
       "      <td>0.894084</td>\n",
       "    </tr>\n",
       "    <tr>\n",
       "      <th>3</th>\n",
       "      <td>mrg7q5</td>\n",
       "      <td>0.375351</td>\n",
       "    </tr>\n",
       "    <tr>\n",
       "      <th>4</th>\n",
       "      <td>uki4do</td>\n",
       "      <td>0.756505</td>\n",
       "    </tr>\n",
       "  </tbody>\n",
       "</table>\n",
       "</div>"
      ],
      "text/plain": [
       "  patient_id  heart_disease_present\n",
       "0     olalu7               0.436512\n",
       "1     z9n6mx               0.192889\n",
       "2     5k4413               0.894084\n",
       "3     mrg7q5               0.375351\n",
       "4     uki4do               0.756505"
      ]
     },
     "execution_count": 51,
     "metadata": {},
     "output_type": "execute_result"
    }
   ],
   "source": [
    "cleveland_heart_disease_rfc2_prediction = test_values.patient_id.to_frame('patient_id')\n",
    "cleveland_heart_disease_rfc2_prediction['heart_disease_present'] = rfc2_prediction[1].round(6)\n",
    "print(cleveland_heart_disease_rfc2_prediction.info())\n",
    "cleveland_heart_disease_rfc2_prediction.head()"
   ]
  },
  {
   "cell_type": "code",
   "execution_count": 52,
   "metadata": {},
   "outputs": [],
   "source": [
    "#cleveland_heart_disease_rfc2_prediction.to_csv('cleveland_heart_disease_rfc3_prediction.csv', index = False) #DD submission log loss = 0.39718"
   ]
  },
  {
   "cell_type": "code",
   "execution_count": 53,
   "metadata": {},
   "outputs": [
    {
     "name": "stdout",
     "output_type": "stream",
     "text": [
      "81.11\n",
      "7.11\n"
     ]
    }
   ],
   "source": [
    "vc= VotingClassifier(estimators=[('gnb2', gnb2), ('rfc2', rfc2), ('lr2', lr2), ('svc2', svc2)],\n",
    "                     voting='soft',\n",
    "                     weights = [1,1,1,1],\n",
    "                     n_jobs=-1)\n",
    "\n",
    "vc.fit(x_train, y_train)\n",
    "\n",
    "vc_prediction = vc.predict_proba(x_test)\n",
    "\n",
    "vc_score = cross_val_score(vc, x_train, y_train, cv=5)\n",
    "\n",
    "print((vc_score.mean()*100).round(2))\n",
    "print((vc_score.std()*100).round(2))"
   ]
  },
  {
   "cell_type": "code",
   "execution_count": 54,
   "metadata": {},
   "outputs": [
    {
     "data": {
      "text/html": [
       "<div>\n",
       "<style scoped>\n",
       "    .dataframe tbody tr th:only-of-type {\n",
       "        vertical-align: middle;\n",
       "    }\n",
       "\n",
       "    .dataframe tbody tr th {\n",
       "        vertical-align: top;\n",
       "    }\n",
       "\n",
       "    .dataframe thead th {\n",
       "        text-align: right;\n",
       "    }\n",
       "</style>\n",
       "<table border=\"1\" class=\"dataframe\">\n",
       "  <thead>\n",
       "    <tr style=\"text-align: right;\">\n",
       "      <th></th>\n",
       "      <th>0</th>\n",
       "      <th>1</th>\n",
       "    </tr>\n",
       "  </thead>\n",
       "  <tbody>\n",
       "    <tr>\n",
       "      <th>0</th>\n",
       "      <td>0.653718</td>\n",
       "      <td>0.346282</td>\n",
       "    </tr>\n",
       "    <tr>\n",
       "      <th>1</th>\n",
       "      <td>0.888150</td>\n",
       "      <td>0.111850</td>\n",
       "    </tr>\n",
       "    <tr>\n",
       "      <th>2</th>\n",
       "      <td>0.058279</td>\n",
       "      <td>0.941721</td>\n",
       "    </tr>\n",
       "    <tr>\n",
       "      <th>3</th>\n",
       "      <td>0.872239</td>\n",
       "      <td>0.127761</td>\n",
       "    </tr>\n",
       "    <tr>\n",
       "      <th>4</th>\n",
       "      <td>0.114912</td>\n",
       "      <td>0.885088</td>\n",
       "    </tr>\n",
       "  </tbody>\n",
       "</table>\n",
       "</div>"
      ],
      "text/plain": [
       "          0         1\n",
       "0  0.653718  0.346282\n",
       "1  0.888150  0.111850\n",
       "2  0.058279  0.941721\n",
       "3  0.872239  0.127761\n",
       "4  0.114912  0.885088"
      ]
     },
     "execution_count": 54,
     "metadata": {},
     "output_type": "execute_result"
    }
   ],
   "source": [
    "vc_prediction = pd.DataFrame(vc_prediction.round(6))\n",
    "vc_prediction.head()"
   ]
  },
  {
   "cell_type": "code",
   "execution_count": 55,
   "metadata": {},
   "outputs": [
    {
     "name": "stdout",
     "output_type": "stream",
     "text": [
      "<class 'pandas.core.frame.DataFrame'>\n",
      "RangeIndex: 90 entries, 0 to 89\n",
      "Data columns (total 2 columns):\n",
      "patient_id               90 non-null object\n",
      "heart_disease_present    90 non-null float64\n",
      "dtypes: float64(1), object(1)\n",
      "memory usage: 1.5+ KB\n",
      "None\n"
     ]
    },
    {
     "data": {
      "text/html": [
       "<div>\n",
       "<style scoped>\n",
       "    .dataframe tbody tr th:only-of-type {\n",
       "        vertical-align: middle;\n",
       "    }\n",
       "\n",
       "    .dataframe tbody tr th {\n",
       "        vertical-align: top;\n",
       "    }\n",
       "\n",
       "    .dataframe thead th {\n",
       "        text-align: right;\n",
       "    }\n",
       "</style>\n",
       "<table border=\"1\" class=\"dataframe\">\n",
       "  <thead>\n",
       "    <tr style=\"text-align: right;\">\n",
       "      <th></th>\n",
       "      <th>patient_id</th>\n",
       "      <th>heart_disease_present</th>\n",
       "    </tr>\n",
       "  </thead>\n",
       "  <tbody>\n",
       "    <tr>\n",
       "      <th>0</th>\n",
       "      <td>olalu7</td>\n",
       "      <td>0.346282</td>\n",
       "    </tr>\n",
       "    <tr>\n",
       "      <th>1</th>\n",
       "      <td>z9n6mx</td>\n",
       "      <td>0.111850</td>\n",
       "    </tr>\n",
       "    <tr>\n",
       "      <th>2</th>\n",
       "      <td>5k4413</td>\n",
       "      <td>0.941721</td>\n",
       "    </tr>\n",
       "    <tr>\n",
       "      <th>3</th>\n",
       "      <td>mrg7q5</td>\n",
       "      <td>0.127761</td>\n",
       "    </tr>\n",
       "    <tr>\n",
       "      <th>4</th>\n",
       "      <td>uki4do</td>\n",
       "      <td>0.885088</td>\n",
       "    </tr>\n",
       "  </tbody>\n",
       "</table>\n",
       "</div>"
      ],
      "text/plain": [
       "  patient_id  heart_disease_present\n",
       "0     olalu7               0.346282\n",
       "1     z9n6mx               0.111850\n",
       "2     5k4413               0.941721\n",
       "3     mrg7q5               0.127761\n",
       "4     uki4do               0.885088"
      ]
     },
     "execution_count": 55,
     "metadata": {},
     "output_type": "execute_result"
    }
   ],
   "source": [
    "cleveland_heart_disease_vc_prediction = test_values.patient_id.to_frame('patient_id')\n",
    "cleveland_heart_disease_vc_prediction['heart_disease_present'] = vc_prediction[1].round(6)\n",
    "print(cleveland_heart_disease_vc_prediction.info())\n",
    "cleveland_heart_disease_vc_prediction.head()"
   ]
  },
  {
   "cell_type": "code",
   "execution_count": 56,
   "metadata": {},
   "outputs": [],
   "source": [
    "#cleveland_heart_disease_vc_prediction.to_csv('cleveland_heart_disease_vc3_prediction.csv', index = False) #DD submission log loss = 0.34338 Rank:328/3704"
   ]
  },
  {
   "cell_type": "code",
   "execution_count": null,
   "metadata": {},
   "outputs": [],
   "source": []
  },
  {
   "cell_type": "code",
   "execution_count": null,
   "metadata": {},
   "outputs": [],
   "source": []
  }
 ],
 "metadata": {
  "kernelspec": {
   "display_name": "Python 3",
   "language": "python",
   "name": "python3"
  },
  "language_info": {
   "codemirror_mode": {
    "name": "ipython",
    "version": 3
   },
   "file_extension": ".py",
   "mimetype": "text/x-python",
   "name": "python",
   "nbconvert_exporter": "python",
   "pygments_lexer": "ipython3",
   "version": "3.7.3"
  }
 },
 "nbformat": 4,
 "nbformat_minor": 2
}
